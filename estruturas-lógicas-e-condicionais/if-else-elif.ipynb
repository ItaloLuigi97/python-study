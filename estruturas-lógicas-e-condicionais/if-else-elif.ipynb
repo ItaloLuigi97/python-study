{
 "cells": [
  {
   "cell_type": "markdown",
   "id": "fcb7b8b4",
   "metadata": {},
   "source": [
    "# Estruturas Condicionais: If, Else, Elif"
   ]
  },
  {
   "cell_type": "markdown",
   "id": "2d755c13",
   "metadata": {},
   "source": [
    "São condições que servem para impor uma regra."
   ]
  },
  {
   "cell_type": "markdown",
   "id": "a6a8cfbf",
   "metadata": {},
   "source": [
    "# Exemplo com IF:"
   ]
  },
  {
   "cell_type": "code",
   "execution_count": 1,
   "id": "c8ac2157",
   "metadata": {},
   "outputs": [
    {
     "name": "stdout",
     "output_type": "stream",
     "text": [
      "Você é menor de idade!\n"
     ]
    }
   ],
   "source": [
    "# Exemplo: Vamos começar a chamar uma valor, de 'idade'.\n",
    "idade = 6\n",
    "\n",
    "# Vamos usar o 'if' para impor uma condição. A condição nos diz se a pessoa é maior ou menor de idade.\n",
    "if idade < 18:\n",
    "    print('Você é menor de idade!')"
   ]
  },
  {
   "cell_type": "markdown",
   "id": "e268d473",
   "metadata": {},
   "source": [
    "Perceba que ele executa, porque ocorre o evento de a idade ser menor que 6. "
   ]
  },
  {
   "cell_type": "code",
   "execution_count": 2,
   "id": "975a37fe",
   "metadata": {},
   "outputs": [],
   "source": [
    "idade = 20\n",
    "\n",
    "if idade < 18:\n",
    "    print('Você é menor de idade\"')"
   ]
  },
  {
   "cell_type": "markdown",
   "id": "c1842b82",
   "metadata": {},
   "source": [
    "Perceba que usamos o mesmo comando da célula acima, porém ele não rodou, porque a idade não é menor que 18 anos, então note que não há uma condição para isso.\n",
    "Portanto,vamos conhecer outra função: ELSE"
   ]
  },
  {
   "cell_type": "markdown",
   "id": "18e8c5bb",
   "metadata": {},
   "source": [
    "# Adicionando o ELSE:"
   ]
  },
  {
   "cell_type": "code",
   "execution_count": 3,
   "id": "15f7ec60",
   "metadata": {},
   "outputs": [
    {
     "name": "stdout",
     "output_type": "stream",
     "text": [
      "Você é maior de idade!\n"
     ]
    }
   ],
   "source": [
    "idade = 20\n",
    "\n",
    "if idade < 18:\n",
    "    print('Você é menor de idade!')\n",
    "else:\n",
    "    print('Você é maior de idade!')"
   ]
  },
  {
   "cell_type": "markdown",
   "id": "5420ccb4",
   "metadata": {},
   "source": [
    "Perceba que agora, independente da idade, temos uma resposta dadas as condições"
   ]
  },
  {
   "cell_type": "markdown",
   "id": "60ac3505",
   "metadata": {},
   "source": [
    "# Se já podemos fazer tudo pelo IF e ELSE, o que é o ELIF então?"
   ]
  },
  {
   "cell_type": "markdown",
   "id": "f35cba40",
   "metadata": {},
   "source": [
    "O nome ELIF vem de (else if)"
   ]
  },
  {
   "cell_type": "code",
   "execution_count": 5,
   "id": "3eea97ba",
   "metadata": {},
   "outputs": [
    {
     "name": "stdout",
     "output_type": "stream",
     "text": [
      "Tem 18 anos!\n"
     ]
    }
   ],
   "source": [
    "# Exemplo: \n",
    "\n",
    "idade = 18\n",
    "\n",
    "if idade < 18:\n",
    "    print('Menor de idade!')\n",
    "elif idade == 18:\n",
    "    print('Tem 18 anos!')\n",
    "else:\n",
    "    print('Maior de idade\"')"
   ]
  },
  {
   "cell_type": "markdown",
   "id": "671ca74f",
   "metadata": {},
   "source": [
    "O ELIF é uma condição que pode ser incluída inumeras vezes, mas estando sempre entre um IF e um ELSE."
   ]
  }
 ],
 "metadata": {
  "kernelspec": {
   "display_name": "Python 3 (ipykernel)",
   "language": "python",
   "name": "python3"
  },
  "language_info": {
   "codemirror_mode": {
    "name": "ipython",
    "version": 3
   },
   "file_extension": ".py",
   "mimetype": "text/x-python",
   "name": "python",
   "nbconvert_exporter": "python",
   "pygments_lexer": "ipython3",
   "version": "3.9.7"
  }
 },
 "nbformat": 4,
 "nbformat_minor": 5
}
