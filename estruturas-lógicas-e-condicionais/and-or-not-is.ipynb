{
 "cells": [
  {
   "cell_type": "markdown",
   "id": "2a9f36bf",
   "metadata": {},
   "source": [
    "# Estruturas Lógicas: AND, OR, NOT"
   ]
  },
  {
   "cell_type": "markdown",
   "id": "7e61f036",
   "metadata": {},
   "source": [
    "- Operadores unários: 'not'. Quer dizer que só dependem de um valor.\n",
    "- Operadores binários: 'and', 'or'. Dependem de dois valores"
   ]
  },
  {
   "cell_type": "markdown",
   "id": "49e4557c",
   "metadata": {},
   "source": [
    "# Exemplo: AND"
   ]
  },
  {
   "cell_type": "code",
   "execution_count": 3,
   "id": "7cb81e87",
   "metadata": {},
   "outputs": [
    {
     "name": "stdout",
     "output_type": "stream",
     "text": [
      "Você precisa ativar sua conta. Por favor, cheque seu e-mail!\n"
     ]
    }
   ],
   "source": [
    "# Para o exemplo, vamos supor dois casos, do usuário estar ativo e logado.\n",
    "ativo = True\n",
    "logado = False\n",
    "\n",
    "if ativo and logado:\n",
    "    print('Bem vindo, usuário!')\n",
    "else:\n",
    "    print('Você precisa ativar sua conta. Por favor, cheque seu e-mail!')"
   ]
  },
  {
   "cell_type": "markdown",
   "id": "d9369238",
   "metadata": {},
   "source": [
    "Para o AND, ambos condições precisam ser True. Senão é dito como Falso."
   ]
  },
  {
   "cell_type": "code",
   "execution_count": 4,
   "id": "a185cc64",
   "metadata": {},
   "outputs": [
    {
     "name": "stdout",
     "output_type": "stream",
     "text": [
      "Bem vindo, usuário!\n"
     ]
    }
   ],
   "source": [
    "ativo = True\n",
    "logado = True\n",
    "\n",
    "if ativo and logado:\n",
    "    print('Bem vindo, usuário!')\n",
    "else:\n",
    "    print('Você precisa ativar sua conta. Por favor, cheque seu e-mail!')"
   ]
  },
  {
   "cell_type": "markdown",
   "id": "49c2756c",
   "metadata": {},
   "source": [
    "Perceba que agora possuímos um valor verdadeiro para a primeira condição imposta no 'if'"
   ]
  },
  {
   "cell_type": "markdown",
   "id": "b2400683",
   "metadata": {},
   "source": [
    "# Exemplo: OR"
   ]
  },
  {
   "cell_type": "code",
   "execution_count": 6,
   "id": "d6283b05",
   "metadata": {},
   "outputs": [
    {
     "name": "stdout",
     "output_type": "stream",
     "text": [
      "Bem vindo, usuário!\n"
     ]
    }
   ],
   "source": [
    "ativo = True\n",
    "logado = False\n",
    "\n",
    "if ativo or logado:\n",
    "    print('Bem vindo, usuário!')\n",
    "else:\n",
    "    print('Você precisa ativar sua conta. Por favor, cheque seu e-mail!')"
   ]
  },
  {
   "cell_type": "markdown",
   "id": "9b8a6138",
   "metadata": {},
   "source": [
    "Perceba que funcionou na primeira, porque pelo menos uma das condições são atendidas."
   ]
  },
  {
   "cell_type": "code",
   "execution_count": 8,
   "id": "8ef167e6",
   "metadata": {},
   "outputs": [
    {
     "name": "stdout",
     "output_type": "stream",
     "text": [
      "Você precisa ativar sua conta. Por favor, cheque seu e-mail!\n"
     ]
    }
   ],
   "source": [
    "ativo = False\n",
    "logado = False\n",
    "\n",
    "if ativo or logado:\n",
    "    print('Bem vindo, usuário!')\n",
    "else:\n",
    "    print('Você precisa ativar sua conta. Por favor, cheque seu e-mail!')"
   ]
  },
  {
   "cell_type": "markdown",
   "id": "270e659a",
   "metadata": {},
   "source": [
    "Agora, como temos os dois valores de Falso, nem um nem o outro atendeu a primeira condição, então essa condição se encaixa no else"
   ]
  },
  {
   "cell_type": "markdown",
   "id": "9036dcf9",
   "metadata": {},
   "source": [
    "# Exemplo: NOT"
   ]
  },
  {
   "cell_type": "markdown",
   "id": "f8bf95f7",
   "metadata": {},
   "source": [
    "Regra de funcionamento: O valor booleano invertido, ou seja, se for True, virá False, se for False virá True"
   ]
  },
  {
   "cell_type": "code",
   "execution_count": 9,
   "id": "4f5a1761",
   "metadata": {},
   "outputs": [
    {
     "name": "stdout",
     "output_type": "stream",
     "text": [
      "Bem vindo, usuário!\n"
     ]
    }
   ],
   "source": [
    "# Exemplo:\n",
    "\n",
    "ativo = True\n",
    "logado = False\n",
    "\n",
    "# Se não estiver ativo\n",
    "if not ativo:\n",
    "    print('VOcê precisa ativar sua conta. Por favor, cheque seu e-mail!')\n",
    "else:\n",
    "    print('Bem vindo, usuário!')"
   ]
  },
  {
   "cell_type": "markdown",
   "id": "d1b0ab1f",
   "metadata": {},
   "source": [
    "Note que a condição inicial é: Se não estiver ATIVO; Mas como está ATIVO, então ele aceita o ELSE como condição"
   ]
  }
 ],
 "metadata": {
  "kernelspec": {
   "display_name": "Python 3 (ipykernel)",
   "language": "python",
   "name": "python3"
  },
  "language_info": {
   "codemirror_mode": {
    "name": "ipython",
    "version": 3
   },
   "file_extension": ".py",
   "mimetype": "text/x-python",
   "name": "python",
   "nbconvert_exporter": "python",
   "pygments_lexer": "ipython3",
   "version": "3.9.7"
  }
 },
 "nbformat": 4,
 "nbformat_minor": 5
}
