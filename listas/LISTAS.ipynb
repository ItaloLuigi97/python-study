{
 "cells": [
  {
   "cell_type": "markdown",
   "id": "1c204e94",
   "metadata": {},
   "source": [
    "# LISTAS\n",
    "Em python, listas funcionam como vetores/matrizes (arrays), podendo ser inserido quaisquer tipo de dados (não possuem tipo de dados fixo)."
   ]
  },
  {
   "cell_type": "markdown",
   "id": "215e5549",
   "metadata": {},
   "source": [
    "Dinâmico: Porque é criado um objeto mutável, ou seja, poderá sempre sofrer mudanças. Então ele não terá tamanho e dimensões fixas. Ou seja, podemos criar uma LISTA e ir adicionando elementos."
   ]
  },
  {
   "cell_type": "markdown",
   "id": "5864f961",
   "metadata": {},
   "source": [
    "Listas são representadas por colchetes: [ ]"
   ]
  },
  {
   "cell_type": "code",
   "execution_count": 4,
   "id": "d8460ded",
   "metadata": {},
   "outputs": [
    {
     "data": {
      "text/plain": [
       "list"
      ]
     },
     "execution_count": 4,
     "metadata": {},
     "output_type": "execute_result"
    }
   ],
   "source": [
    "# Exemplo:\n",
    "type([])"
   ]
  },
  {
   "cell_type": "markdown",
   "id": "9f163231",
   "metadata": {},
   "source": [
    "Note que de fato, mesmo sem ter objetos dentro dos colchetes, temos uma lista, porque essa é sua nomenclatura"
   ]
  },
  {
   "cell_type": "markdown",
   "id": "f72a9515",
   "metadata": {},
   "source": [
    "Criando algumas listas"
   ]
  },
  {
   "cell_type": "code",
   "execution_count": 7,
   "id": "eee28996",
   "metadata": {},
   "outputs": [],
   "source": [
    "lista1 = [1, 99, 5, 26, 15, 22, 3, 1, 44, 42, 27]\n",
    "lista2 = ['italo', 'ana', 'pedro', 'maria', 'joão', 'carol']\n",
    "lista3 = []\n",
    "lista4 = list(range(11))\n",
    "lista5 = list('ítalo luigi')"
   ]
  },
  {
   "cell_type": "markdown",
   "id": "c4843ffd",
   "metadata": {},
   "source": [
    "# Porque utilizar LISTAS?"
   ]
  },
  {
   "cell_type": "markdown",
   "id": "13ae329f",
   "metadata": {},
   "source": [
    "Elas são fácil para checar se determinado valor está contido na lista"
   ]
  },
  {
   "cell_type": "code",
   "execution_count": 10,
   "id": "a78bd0ac",
   "metadata": {},
   "outputs": [
    {
     "name": "stdout",
     "output_type": "stream",
     "text": [
      "O numero 20 não pertence a lista 1\n"
     ]
    }
   ],
   "source": [
    "# Exemplo:\n",
    "if 20 in lista1:\n",
    "    print('O numero 20 pertence a lista 1')\n",
    "else:\n",
    "    print('O numero 20 não pertence a lista 1')"
   ]
  },
  {
   "cell_type": "code",
   "execution_count": 12,
   "id": "2dfde8fc",
   "metadata": {},
   "outputs": [
    {
     "name": "stdout",
     "output_type": "stream",
     "text": [
      "Encontrei\n"
     ]
    }
   ],
   "source": [
    "# Exemplo:\n",
    "if 'i' in lista5:\n",
    "    print('Encontrei')\n",
    "else:\n",
    "    print('Não encontrei')"
   ]
  },
  {
   "cell_type": "markdown",
   "id": "057c1367",
   "metadata": {},
   "source": [
    "Note que tinhamos três letras 'i', ele não dá a posição, mas diz se pertence ou não"
   ]
  },
  {
   "cell_type": "markdown",
   "id": "d2a5efbd",
   "metadata": {},
   "source": [
    "# O que da pra fazer com as listas? "
   ]
  },
  {
   "cell_type": "markdown",
   "id": "d0a85e8e",
   "metadata": {},
   "source": [
    "Ao utilizarmos o comando 'DIR' podemos ver todas as operações com determinada lista."
   ]
  },
  {
   "cell_type": "markdown",
   "id": "4a2d6993",
   "metadata": {},
   "source": [
    "Por exemplo, vejamos as aplicações que podemos fazer com a 'lista1'"
   ]
  },
  {
   "cell_type": "code",
   "execution_count": 14,
   "id": "936189bb",
   "metadata": {},
   "outputs": [
    {
     "data": {
      "text/plain": [
       "['__add__',\n",
       " '__class__',\n",
       " '__class_getitem__',\n",
       " '__contains__',\n",
       " '__delattr__',\n",
       " '__delitem__',\n",
       " '__dir__',\n",
       " '__doc__',\n",
       " '__eq__',\n",
       " '__format__',\n",
       " '__ge__',\n",
       " '__getattribute__',\n",
       " '__getitem__',\n",
       " '__gt__',\n",
       " '__hash__',\n",
       " '__iadd__',\n",
       " '__imul__',\n",
       " '__init__',\n",
       " '__init_subclass__',\n",
       " '__iter__',\n",
       " '__le__',\n",
       " '__len__',\n",
       " '__lt__',\n",
       " '__mul__',\n",
       " '__ne__',\n",
       " '__new__',\n",
       " '__reduce__',\n",
       " '__reduce_ex__',\n",
       " '__repr__',\n",
       " '__reversed__',\n",
       " '__rmul__',\n",
       " '__setattr__',\n",
       " '__setitem__',\n",
       " '__sizeof__',\n",
       " '__str__',\n",
       " '__subclasshook__',\n",
       " 'append',\n",
       " 'clear',\n",
       " 'copy',\n",
       " 'count',\n",
       " 'extend',\n",
       " 'index',\n",
       " 'insert',\n",
       " 'pop',\n",
       " 'remove',\n",
       " 'reverse',\n",
       " 'sort']"
      ]
     },
     "execution_count": 14,
     "metadata": {},
     "output_type": "execute_result"
    }
   ],
   "source": [
    "dir(lista1)"
   ]
  },
  {
   "cell_type": "markdown",
   "id": "bd747345",
   "metadata": {},
   "source": [
    "# Ordenando uma LISTA"
   ]
  },
  {
   "cell_type": "code",
   "execution_count": 16,
   "id": "14416dca",
   "metadata": {},
   "outputs": [
    {
     "data": {
      "text/plain": [
       "[1, 1, 3, 5, 15, 22, 26, 27, 42, 44, 99]"
      ]
     },
     "execution_count": 16,
     "metadata": {},
     "output_type": "execute_result"
    }
   ],
   "source": [
    "# Podemos facilemnte ordenar uma lista\n",
    "lista1.sort()\n",
    "print (lista1)"
   ]
  },
  {
   "cell_type": "code",
   "execution_count": 17,
   "id": "3d8bbb5d",
   "metadata": {},
   "outputs": [
    {
     "name": "stdout",
     "output_type": "stream",
     "text": [
      "[' ', 'a', 'g', 'i', 'i', 'l', 'l', 'o', 't', 'u', 'í']\n"
     ]
    }
   ],
   "source": [
    "# Podemos fazer também com uma lista de strings\n",
    "lista5.sort()\n",
    "print(lista5)"
   ]
  },
  {
   "cell_type": "markdown",
   "id": "1ba65491",
   "metadata": {},
   "source": [
    "Note que pela ordem de grandeza, caracteres vazios são os primeiros, e palavras com acentos vão para o final"
   ]
  },
  {
   "cell_type": "markdown",
   "id": "45ffcff4",
   "metadata": {},
   "source": [
    "# Contagem em uma LISTA"
   ]
  },
  {
   "cell_type": "code",
   "execution_count": 18,
   "id": "ae73ba21",
   "metadata": {},
   "outputs": [
    {
     "data": {
      "text/plain": [
       "2"
      ]
     },
     "execution_count": 18,
     "metadata": {},
     "output_type": "execute_result"
    }
   ],
   "source": [
    "# Contar a ocorrência de eventos em uma lista:\n",
    "lista5.count('i')"
   ]
  },
  {
   "cell_type": "markdown",
   "id": "dfbad550",
   "metadata": {},
   "source": [
    "Note que possuímos 2 letras 'i'"
   ]
  },
  {
   "cell_type": "markdown",
   "id": "9e6b33a2",
   "metadata": {},
   "source": [
    "# Adicionar elementos ou valores na LISTA"
   ]
  },
  {
   "cell_type": "markdown",
   "id": "be5d8500",
   "metadata": {},
   "source": [
    "Usamos a função append"
   ]
  },
  {
   "cell_type": "code",
   "execution_count": 19,
   "id": "cc85a46c",
   "metadata": {},
   "outputs": [
    {
     "name": "stdout",
     "output_type": "stream",
     "text": [
      "[1, 1, 3, 5, 15, 22, 26, 27, 42, 44, 99]\n",
      "[1, 1, 3, 5, 15, 22, 26, 27, 42, 44, 99, 42]\n"
     ]
    }
   ],
   "source": [
    "print(lista1)\n",
    "lista1.append(42)\n",
    "print(lista1)"
   ]
  },
  {
   "cell_type": "markdown",
   "id": "d657a2a6",
   "metadata": {},
   "source": [
    "O comando APPEND só permite adicionar um elemento por vez."
   ]
  },
  {
   "cell_type": "code",
   "execution_count": 21,
   "id": "2155f0b9",
   "metadata": {},
   "outputs": [
    {
     "name": "stdout",
     "output_type": "stream",
     "text": [
      "[1, 1, 3, 5, 15, 22, 26, 27, 42, 44, 99, 42, [8, 3, 1]]\n"
     ]
    }
   ],
   "source": [
    "lista1.append([8, 3, 1])\n",
    "print(lista1)"
   ]
  },
  {
   "cell_type": "markdown",
   "id": "8f1ce2c6",
   "metadata": {},
   "source": [
    "Agora passamos uma lista, mas perceba que essa lista consta como um valor unitário."
   ]
  },
  {
   "cell_type": "markdown",
   "id": "598c2dc6",
   "metadata": {},
   "source": [
    "Ainda podemos a encontrar dentro de nossa lista:"
   ]
  },
  {
   "cell_type": "code",
   "execution_count": 22,
   "id": "fb85ee58",
   "metadata": {},
   "outputs": [
    {
     "name": "stdout",
     "output_type": "stream",
     "text": [
      "Está na lista\n"
     ]
    }
   ],
   "source": [
    "if [8, 3, 1] in lista1:\n",
    "    print('Está na lista')\n",
    "else:\n",
    "    print('Não está na lista')"
   ]
  },
  {
   "cell_type": "code",
   "execution_count": 24,
   "id": "af2eaf49",
   "metadata": {},
   "outputs": [
    {
     "name": "stdout",
     "output_type": "stream",
     "text": [
      "[1, 1, 3, 5, 15, 22, 26, 27, 42, 44, 99, 42, [8, 3, 1], 123, 44, 67, 123, 44, 67]\n"
     ]
    }
   ],
   "source": [
    "lista1.extend([123, 44, 67])\n",
    "print(lista1)"
   ]
  },
  {
   "cell_type": "markdown",
   "id": "df161b66",
   "metadata": {},
   "source": [
    "Agora com o comando EXTEND foi adicionado um a um, não em forma de lista"
   ]
  },
  {
   "cell_type": "markdown",
   "id": "4888b133",
   "metadata": {},
   "source": [
    "Podemos substituir os valores com a função INSERT"
   ]
  },
  {
   "cell_type": "code",
   "execution_count": 25,
   "id": "9d0c52fd",
   "metadata": {},
   "outputs": [
    {
     "name": "stdout",
     "output_type": "stream",
     "text": [
      "[1, 1, 'novo valor', 3, 5, 15, 22, 26, 27, 42, 44, 99, 42, [8, 3, 1], 123, 44, 67, 123, 44, 67]\n"
     ]
    }
   ],
   "source": [
    "# Exemplo:\n",
    "lista1.insert(2, 'novo valor')\n",
    "print(lista1)"
   ]
  },
  {
   "cell_type": "markdown",
   "id": "fbae6f97",
   "metadata": {},
   "source": [
    "Note que o elemento na posição dois, foi para a posição três, e 'novo valor' foi inserido na posição dois."
   ]
  },
  {
   "cell_type": "markdown",
   "id": "5033d980",
   "metadata": {},
   "source": [
    "Podemos juntar duas listas:"
   ]
  },
  {
   "cell_type": "code",
   "execution_count": 26,
   "id": "c337f371",
   "metadata": {},
   "outputs": [],
   "source": [
    "# exemplo:"
   ]
  },
  {
   "cell_type": "code",
   "execution_count": 28,
   "id": "5c89ac17",
   "metadata": {},
   "outputs": [
    {
     "name": "stdout",
     "output_type": "stream",
     "text": [
      "[1, 1, 'novo valor', 3, 5, 15, 22, 26, 27, 42, 44, 99, 42, [8, 3, 1], 123, 44, 67, 123, 44, 67, 'italo', 'ana', 'pedro', 'maria', 'joão', 'carol']\n"
     ]
    }
   ],
   "source": [
    "lista6 = lista1 + lista2\n",
    "print(lista6)"
   ]
  },
  {
   "cell_type": "code",
   "execution_count": 33,
   "id": "246c55b4",
   "metadata": {},
   "outputs": [
    {
     "name": "stdout",
     "output_type": "stream",
     "text": [
      "[1, 1, 'novo valor', 3, 5, 15, 22, 26, 27, 42, 44, 99, 42, [8, 3, 1], 123, 44, 67, 123, 44, 67]\n",
      "['italo', 'ana', 'pedro', 'maria', 'joão', 'carol']\n"
     ]
    }
   ],
   "source": [
    "lista1.reverse()\n",
    "lista2.reverse()\n",
    "print (lista1)\n",
    "print(lista2)"
   ]
  },
  {
   "cell_type": "markdown",
   "id": "b3531fe3",
   "metadata": {},
   "source": [
    "# Copiar uma lista"
   ]
  },
  {
   "cell_type": "code",
   "execution_count": 35,
   "id": "17659b0a",
   "metadata": {},
   "outputs": [
    {
     "data": {
      "text/plain": [
       "['italo', 'ana', 'pedro', 'maria', 'joão', 'carol']"
      ]
     },
     "execution_count": 35,
     "metadata": {},
     "output_type": "execute_result"
    }
   ],
   "source": [
    "lista7 = lista2.copy()\n",
    "lista7"
   ]
  },
  {
   "cell_type": "markdown",
   "id": "39a3ead0",
   "metadata": {},
   "source": [
    "A vantagem de se copiar uma lista é que agora ela é um objeto independente"
   ]
  },
  {
   "cell_type": "markdown",
   "id": "65dd2a55",
   "metadata": {},
   "source": [
    "# Tamanho de uma lista"
   ]
  },
  {
   "cell_type": "code",
   "execution_count": 37,
   "id": "82a5f9c7",
   "metadata": {},
   "outputs": [
    {
     "name": "stdout",
     "output_type": "stream",
     "text": [
      "20\n"
     ]
    }
   ],
   "source": [
    "print(len(lista1))"
   ]
  },
  {
   "cell_type": "code",
   "execution_count": null,
   "id": "79beb760",
   "metadata": {},
   "outputs": [],
   "source": []
  },
  {
   "cell_type": "code",
   "execution_count": null,
   "id": "fb6a034b",
   "metadata": {},
   "outputs": [],
   "source": []
  },
  {
   "cell_type": "code",
   "execution_count": null,
   "id": "7bc86430",
   "metadata": {},
   "outputs": [],
   "source": []
  },
  {
   "cell_type": "code",
   "execution_count": null,
   "id": "bb04778f",
   "metadata": {},
   "outputs": [],
   "source": []
  },
  {
   "cell_type": "code",
   "execution_count": null,
   "id": "dd3a8b9d",
   "metadata": {},
   "outputs": [],
   "source": []
  },
  {
   "cell_type": "code",
   "execution_count": null,
   "id": "d1fd5cdc",
   "metadata": {},
   "outputs": [],
   "source": []
  },
  {
   "cell_type": "code",
   "execution_count": null,
   "id": "4715be75",
   "metadata": {},
   "outputs": [],
   "source": []
  },
  {
   "cell_type": "code",
   "execution_count": null,
   "id": "46919bfb",
   "metadata": {},
   "outputs": [],
   "source": []
  },
  {
   "cell_type": "code",
   "execution_count": null,
   "id": "e2d546d1",
   "metadata": {},
   "outputs": [],
   "source": []
  },
  {
   "cell_type": "code",
   "execution_count": null,
   "id": "3d32a5f6",
   "metadata": {},
   "outputs": [],
   "source": []
  },
  {
   "cell_type": "code",
   "execution_count": null,
   "id": "46fef47a",
   "metadata": {},
   "outputs": [],
   "source": []
  },
  {
   "cell_type": "code",
   "execution_count": null,
   "id": "6b2b4cb5",
   "metadata": {},
   "outputs": [],
   "source": []
  },
  {
   "cell_type": "code",
   "execution_count": null,
   "id": "c87d470e",
   "metadata": {},
   "outputs": [],
   "source": []
  },
  {
   "cell_type": "code",
   "execution_count": null,
   "id": "411d58d5",
   "metadata": {},
   "outputs": [],
   "source": []
  },
  {
   "cell_type": "code",
   "execution_count": null,
   "id": "4a6078f4",
   "metadata": {},
   "outputs": [],
   "source": []
  },
  {
   "cell_type": "code",
   "execution_count": null,
   "id": "6a17b28a",
   "metadata": {},
   "outputs": [],
   "source": []
  },
  {
   "cell_type": "code",
   "execution_count": null,
   "id": "96468d24",
   "metadata": {},
   "outputs": [],
   "source": []
  },
  {
   "cell_type": "code",
   "execution_count": null,
   "id": "9ccdcd7a",
   "metadata": {},
   "outputs": [],
   "source": []
  },
  {
   "cell_type": "code",
   "execution_count": null,
   "id": "0afa3971",
   "metadata": {},
   "outputs": [],
   "source": []
  },
  {
   "cell_type": "code",
   "execution_count": null,
   "id": "15822a8b",
   "metadata": {},
   "outputs": [],
   "source": []
  },
  {
   "cell_type": "code",
   "execution_count": null,
   "id": "f678a293",
   "metadata": {},
   "outputs": [],
   "source": []
  },
  {
   "cell_type": "code",
   "execution_count": null,
   "id": "16080acb",
   "metadata": {},
   "outputs": [],
   "source": []
  }
 ],
 "metadata": {
  "kernelspec": {
   "display_name": "Python 3 (ipykernel)",
   "language": "python",
   "name": "python3"
  },
  "language_info": {
   "codemirror_mode": {
    "name": "ipython",
    "version": 3
   },
   "file_extension": ".py",
   "mimetype": "text/x-python",
   "name": "python",
   "nbconvert_exporter": "python",
   "pygments_lexer": "ipython3",
   "version": "3.9.7"
  }
 },
 "nbformat": 4,
 "nbformat_minor": 5
}
