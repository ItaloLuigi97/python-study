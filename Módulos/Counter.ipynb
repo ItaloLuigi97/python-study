{
 "cells": [
  {
   "cell_type": "markdown",
   "id": "bccd5a91",
   "metadata": {},
   "source": [
    "# Módulo COUNTER"
   ]
  },
  {
   "cell_type": "markdown",
   "id": "3a05f4bb",
   "metadata": {},
   "source": [
    "**Utilizando o Counter**: Ele é aplicado em iteráveis (listas, dicionários, conjuntos...)"
   ]
  },
  {
   "cell_type": "code",
   "execution_count": 1,
   "id": "85b4b7ce",
   "metadata": {},
   "outputs": [],
   "source": [
    "from collections import Counter"
   ]
  },
  {
   "cell_type": "code",
   "execution_count": 3,
   "id": "e8e4c097",
   "metadata": {},
   "outputs": [],
   "source": [
    "lista = [1, 1, 1, 2, 2, 3, 3, 3, 1, 3, 2, 5, 4, 4, 5, 18, 18]"
   ]
  },
  {
   "cell_type": "code",
   "execution_count": 4,
   "id": "c892f0d1",
   "metadata": {},
   "outputs": [
    {
     "name": "stdout",
     "output_type": "stream",
     "text": [
      "<class 'collections.Counter'>\n",
      "Counter({1: 4, 3: 4, 2: 3, 5: 2, 4: 2, 18: 2})\n"
     ]
    }
   ],
   "source": [
    "# utilizando o Counter\n",
    "\n",
    "res = Counter(lista)\n",
    "\n",
    "print(type(res))\n",
    "print(res)"
   ]
  },
  {
   "cell_type": "markdown",
   "id": "898d1acc",
   "metadata": {},
   "source": [
    "É semelhante ao dicionário, pois ele monta um contador. "
   ]
  },
  {
   "cell_type": "markdown",
   "id": "947e0e35",
   "metadata": {},
   "source": [
    "Ele da uma contagem de cada elemento da lista. Por exemplo: 1 aparece 4 vezes, 3 aparece 4 vezes, 2 aparece três vezes, ... ."
   ]
  },
  {
   "cell_type": "code",
   "execution_count": 5,
   "id": "c63bee7a",
   "metadata": {},
   "outputs": [
    {
     "name": "stdout",
     "output_type": "stream",
     "text": [
      "Counter({'a': 5, 't': 3, ' ': 3, 'i': 3, 'Í': 1, 'l': 1, 'o': 1, 'L': 1, 'u': 1, 'g': 1, 'S': 1, 'n': 1, 'C': 1, 'p': 1})\n"
     ]
    }
   ],
   "source": [
    "# Outro exemplo\n",
    "\n",
    "print(Counter('Ítalo Luigi Santa Capita'))"
   ]
  },
  {
   "cell_type": "markdown",
   "id": "8ce08a23",
   "metadata": {},
   "source": [
    "Novamente, é listado todas as ocorrências da string"
   ]
  },
  {
   "cell_type": "code",
   "execution_count": 7,
   "id": "67e915c3",
   "metadata": {},
   "outputs": [
    {
     "name": "stdout",
     "output_type": "stream",
     "text": [
      "['A', 'National', 'Basketball', 'Association', '(em', 'português:', 'Associação', 'Nacional', 'de', 'Basquetebol;', 'abreviação', 'oficial:', 'NBA)', 'é', 'a', 'principal', 'liga', 'de', 'basquetebol', 'profissional', 'da', 'América', 'do', 'Norte.', 'Com', '30', 'franquias', '(29', 'nos', 'Estados', 'Unidos', 'e', '1', 'no', 'Canadá)', ',', 'a', 'NBA', 'também', 'é', 'considerada', 'a', 'principal', 'liga', 'de', 'basquete', 'do', 'mundo.', 'É', 'um', 'membro', 'ativo', 'da', 'USA', 'Basketball', '(USAB),', 'que', 'é', 'reconhecida', 'pela', 'FIBA', '(a', 'Federação', 'Internacional', 'de', 'Basquetebol)', 'como', 'a', 'entidade', 'máxima', 'e', 'organizadora', 'do', 'basquetebol', 'nos', 'Estados', 'Unidos.', 'A', 'NBA', 'é', 'uma', 'das', '4', \"'major\", \"leagues'\", 'de', 'esporte', 'profissional', 'na', 'América', 'do', 'Norte.', 'Os', 'jogadores', 'da', 'NBA', 'são', 'os', 'atletas', 'mais', 'bem', 'pagos', 'do', 'mundo,', 'por', 'salário', 'médio', 'anual.']\n",
      "Counter({'de': 5, 'do': 5, 'é': 4, 'a': 4, 'da': 3, 'NBA': 3, 'A': 2, 'Basketball': 2, 'principal': 2, 'liga': 2, 'basquetebol': 2, 'profissional': 2, 'América': 2, 'Norte.': 2, 'nos': 2, 'Estados': 2, 'e': 2, 'National': 1, 'Association': 1, '(em': 1, 'português:': 1, 'Associação': 1, 'Nacional': 1, 'Basquetebol;': 1, 'abreviação': 1, 'oficial:': 1, 'NBA)': 1, 'Com': 1, '30': 1, 'franquias': 1, '(29': 1, 'Unidos': 1, '1': 1, 'no': 1, 'Canadá)': 1, ',': 1, 'também': 1, 'considerada': 1, 'basquete': 1, 'mundo.': 1, 'É': 1, 'um': 1, 'membro': 1, 'ativo': 1, 'USA': 1, '(USAB),': 1, 'que': 1, 'reconhecida': 1, 'pela': 1, 'FIBA': 1, '(a': 1, 'Federação': 1, 'Internacional': 1, 'Basquetebol)': 1, 'como': 1, 'entidade': 1, 'máxima': 1, 'organizadora': 1, 'Unidos.': 1, 'uma': 1, 'das': 1, '4': 1, \"'major\": 1, \"leagues'\": 1, 'esporte': 1, 'na': 1, 'Os': 1, 'jogadores': 1, 'são': 1, 'os': 1, 'atletas': 1, 'mais': 1, 'bem': 1, 'pagos': 1, 'mundo,': 1, 'por': 1, 'salário': 1, 'médio': 1, 'anual.': 1})\n"
     ]
    }
   ],
   "source": [
    "# Outro exemplo: Peguei um texto do wikipédia\n",
    "\n",
    "texto = ''' A National Basketball Association (em português: Associação Nacional de Basquetebol; abreviação oficial: NBA)\n",
    "é a principal liga de basquetebol profissional da América do Norte. Com 30 franquias (29 nos Estados Unidos e 1 no Canadá)\n",
    ", a NBA também é considerada a principal liga de basquete do mundo. É um membro ativo da USA Basketball (USAB), que é\n",
    "reconhecida pela FIBA (a Federação Internacional de Basquetebol) como a entidade máxima e organizadora do basquetebol nos \n",
    "Estados Unidos. A NBA é uma das 4 'major leagues' de esporte profissional na América do Norte. Os jogadores da NBA são os\n",
    "atletas mais bem pagos do mundo, por salário médio anual.'''\n",
    "\n",
    "palavras = texto.split()\n",
    "print(palavras)\n",
    "\n",
    "res = Counter(palavras)\n",
    "print(res)"
   ]
  },
  {
   "cell_type": "code",
   "execution_count": 8,
   "id": "73a84750",
   "metadata": {},
   "outputs": [
    {
     "name": "stdout",
     "output_type": "stream",
     "text": [
      "[('de', 5), ('do', 5), ('é', 4), ('a', 4), ('da', 3)]\n"
     ]
    }
   ],
   "source": [
    "# Palavras com mais ocorrências\n",
    "\n",
    "print(res.most_common(5))"
   ]
  },
  {
   "cell_type": "code",
   "execution_count": null,
   "id": "8aab3318",
   "metadata": {},
   "outputs": [],
   "source": []
  }
 ],
 "metadata": {
  "kernelspec": {
   "display_name": "Python 3 (ipykernel)",
   "language": "python",
   "name": "python3"
  },
  "language_info": {
   "codemirror_mode": {
    "name": "ipython",
    "version": 3
   },
   "file_extension": ".py",
   "mimetype": "text/x-python",
   "name": "python",
   "nbconvert_exporter": "python",
   "pygments_lexer": "ipython3",
   "version": "3.9.7"
  }
 },
 "nbformat": 4,
 "nbformat_minor": 5
}
