{
 "cells": [
  {
   "cell_type": "markdown",
   "id": "66a02221",
   "metadata": {},
   "source": [
    "# Módulo ORDERED DICT"
   ]
  },
  {
   "cell_type": "code",
   "execution_count": 5,
   "id": "d07b13c5",
   "metadata": {},
   "outputs": [
    {
     "name": "stdout",
     "output_type": "stream",
     "text": [
      "{'a': 1, 'b': 2, 'c': 3, 'd': 4}\n"
     ]
    }
   ],
   "source": [
    "dicionario = {'a':1, 'b':2, 'c':3, 'd':4}\n",
    "\n",
    "print(dicionario)"
   ]
  },
  {
   "cell_type": "code",
   "execution_count": 6,
   "id": "c4b647df",
   "metadata": {},
   "outputs": [
    {
     "name": "stdout",
     "output_type": "stream",
     "text": [
      "chave=a: valor=1\n",
      "chave=b: valor=2\n",
      "chave=c: valor=3\n",
      "chave=d: valor=4\n"
     ]
    }
   ],
   "source": [
    "for chave, valor in dicionario.items():\n",
    "    print(f'chave={chave}: valor={valor}')"
   ]
  },
  {
   "cell_type": "markdown",
   "id": "61f2cea8",
   "metadata": {},
   "source": [
    "Em um dicionário, a ordem de inserção dos elementos não é garantida."
   ]
  },
  {
   "cell_type": "code",
   "execution_count": 7,
   "id": "770b4fa8",
   "metadata": {},
   "outputs": [],
   "source": [
    "from collections import OrderedDict"
   ]
  },
  {
   "cell_type": "code",
   "execution_count": 8,
   "id": "20c0f7ad",
   "metadata": {},
   "outputs": [
    {
     "name": "stdout",
     "output_type": "stream",
     "text": [
      "Chave=a, valor=1\n",
      "Chave=b, valor=2\n",
      "Chave=c, valor=3\n",
      "Chave=d, valor=4\n"
     ]
    }
   ],
   "source": [
    "dicionario = OrderedDict({'a':1, 'b':2, 'c':3, 'd':4})\n",
    "\n",
    "for chave, valor in dicionario.items():\n",
    "    print(f'Chave={chave}, valor={valor}')"
   ]
  },
  {
   "cell_type": "markdown",
   "id": "bb662fc2",
   "metadata": {},
   "source": [
    "OrderedDict é um dicionário que garante a ordem de inserção dos elementos."
   ]
  },
  {
   "cell_type": "markdown",
   "id": "4aba89dc",
   "metadata": {},
   "source": [
    "**Diferença entre DICT e ORDERER DICT**"
   ]
  },
  {
   "cell_type": "code",
   "execution_count": 11,
   "id": "b6eb9c5d",
   "metadata": {},
   "outputs": [
    {
     "name": "stdout",
     "output_type": "stream",
     "text": [
      "True\n"
     ]
    }
   ],
   "source": [
    "dict1 = {'a':1, 'b':2}\n",
    "dict2 = {'b':2, 'a':1}\n",
    "\n",
    "print(dict1 == dict2) # True/False?"
   ]
  },
  {
   "cell_type": "markdown",
   "id": "d250626d",
   "metadata": {},
   "source": [
    "Deu true, porque a ordem não importa, somente as chaves e seus respectivos valores"
   ]
  },
  {
   "cell_type": "code",
   "execution_count": 13,
   "id": "014c8887",
   "metadata": {},
   "outputs": [
    {
     "name": "stdout",
     "output_type": "stream",
     "text": [
      "False\n"
     ]
    }
   ],
   "source": [
    "dict1 = OrderedDict({'a':1, 'b':2})\n",
    "dict2 = OrderedDict({'b':2, 'a':1})\n",
    "\n",
    "print(dict1 == dict2) # True/False?"
   ]
  },
  {
   "cell_type": "markdown",
   "id": "71c897a8",
   "metadata": {},
   "source": [
    "Agora a ordem fez toda a diferença, por isso são considerados diferentes."
   ]
  },
  {
   "cell_type": "code",
   "execution_count": null,
   "id": "79de82f8",
   "metadata": {},
   "outputs": [],
   "source": []
  }
 ],
 "metadata": {
  "kernelspec": {
   "display_name": "Python 3 (ipykernel)",
   "language": "python",
   "name": "python3"
  },
  "language_info": {
   "codemirror_mode": {
    "name": "ipython",
    "version": 3
   },
   "file_extension": ".py",
   "mimetype": "text/x-python",
   "name": "python",
   "nbconvert_exporter": "python",
   "pygments_lexer": "ipython3",
   "version": "3.9.7"
  }
 },
 "nbformat": 4,
 "nbformat_minor": 5
}
