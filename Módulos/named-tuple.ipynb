{
 "cells": [
  {
   "cell_type": "markdown",
   "id": "a39495d0",
   "metadata": {},
   "source": [
    "# Módulo NAMED TUPLE"
   ]
  },
  {
   "cell_type": "code",
   "execution_count": 2,
   "id": "4a7395e7",
   "metadata": {},
   "outputs": [
    {
     "name": "stdout",
     "output_type": "stream",
     "text": [
      "2\n"
     ]
    }
   ],
   "source": [
    "tupla = (1, 2, 3)\n",
    "\n",
    "print(tupla[1])"
   ]
  },
  {
   "cell_type": "markdown",
   "id": "de2b1656",
   "metadata": {},
   "source": [
    "Named Tuple: São tuplas onde especifica-se os nomes e também parametros"
   ]
  },
  {
   "cell_type": "code",
   "execution_count": 3,
   "id": "9e8c226c",
   "metadata": {},
   "outputs": [],
   "source": [
    "from collections import namedtuple"
   ]
  },
  {
   "cell_type": "code",
   "execution_count": 8,
   "id": "74995c09",
   "metadata": {},
   "outputs": [
    {
     "name": "stdout",
     "output_type": "stream",
     "text": [
      "cachorro(idade=2, raca='Doguinho', nome='Luke')\n"
     ]
    }
   ],
   "source": [
    "# Forma 1:\n",
    "cachorro1 = namedtuple('cachorro', 'idade raca nome')\n",
    "\n",
    "Luke = cachorro1(idade=2, raca='Doguinho', nome='Luke')\n",
    "\n",
    "print(Luke)"
   ]
  },
  {
   "cell_type": "code",
   "execution_count": 9,
   "id": "ff5bff15",
   "metadata": {},
   "outputs": [
    {
     "name": "stdout",
     "output_type": "stream",
     "text": [
      "cachorro(idade=2, raca='Doguinho', nome='Luke')\n"
     ]
    }
   ],
   "source": [
    "# Forma 2:\n",
    "cachorro2 = namedtuple('cachorro', 'idade, raca, nome')\n",
    "\n",
    "Luke = cachorro2(idade=2, raca='Doguinho', nome='Luke')\n",
    "print(Luke)"
   ]
  },
  {
   "cell_type": "code",
   "execution_count": 10,
   "id": "a3abf24f",
   "metadata": {},
   "outputs": [
    {
     "name": "stdout",
     "output_type": "stream",
     "text": [
      "cachorro(idade=2, raca='Doguinho', nome='Luke')\n"
     ]
    }
   ],
   "source": [
    "# Forma 3:\n",
    "cachorro3 = namedtuple('cachorro', ['idade', 'raca', 'nome'])\n",
    "\n",
    "Luke = cachorro3(idade=2, raca='Doguinho', nome='Luke')\n",
    "print(Luke)"
   ]
  },
  {
   "cell_type": "markdown",
   "id": "faadd523",
   "metadata": {},
   "source": [
    "**Acessando os dados**"
   ]
  },
  {
   "cell_type": "code",
   "execution_count": 15,
   "id": "82ace2cb",
   "metadata": {},
   "outputs": [
    {
     "name": "stdout",
     "output_type": "stream",
     "text": [
      "2\n",
      "Doguinho\n",
      "Luke\n"
     ]
    }
   ],
   "source": [
    "# Forma 1:\n",
    "\n",
    "print(Luke[0]) #idade\n",
    "print(Luke[1]) #raca\n",
    "print(Luke[2]) #nome"
   ]
  },
  {
   "cell_type": "code",
   "execution_count": 16,
   "id": "4b385b00",
   "metadata": {},
   "outputs": [
    {
     "name": "stdout",
     "output_type": "stream",
     "text": [
      "2\n",
      "Doguinho\n",
      "Luke\n"
     ]
    }
   ],
   "source": [
    "# Forma 2:\n",
    "\n",
    "print(Luke.idade)\n",
    "print(Luke.raca)\n",
    "print(Luke.nome)"
   ]
  },
  {
   "cell_type": "code",
   "execution_count": 19,
   "id": "32b8568f",
   "metadata": {},
   "outputs": [
    {
     "name": "stdout",
     "output_type": "stream",
     "text": [
      "1\n",
      "1\n"
     ]
    }
   ],
   "source": [
    "print(Luke.index('Doguinho'))\n",
    "\n",
    "print(Luke.count('Doguinho'))"
   ]
  },
  {
   "cell_type": "code",
   "execution_count": null,
   "id": "cf6b3d15",
   "metadata": {},
   "outputs": [],
   "source": []
  }
 ],
 "metadata": {
  "kernelspec": {
   "display_name": "Python 3 (ipykernel)",
   "language": "python",
   "name": "python3"
  },
  "language_info": {
   "codemirror_mode": {
    "name": "ipython",
    "version": 3
   },
   "file_extension": ".py",
   "mimetype": "text/x-python",
   "name": "python",
   "nbconvert_exporter": "python",
   "pygments_lexer": "ipython3",
   "version": "3.9.7"
  }
 },
 "nbformat": 4,
 "nbformat_minor": 5
}
