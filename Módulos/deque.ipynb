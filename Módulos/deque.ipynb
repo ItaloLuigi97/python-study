{
 "cells": [
  {
   "cell_type": "markdown",
   "id": "01f5e827",
   "metadata": {},
   "source": [
    "# Módulo DEQUE"
   ]
  },
  {
   "cell_type": "markdown",
   "id": "a7f1ba5b",
   "metadata": {},
   "source": [
    "Deque é uma lista de alta performance"
   ]
  },
  {
   "cell_type": "code",
   "execution_count": 1,
   "id": "e7a7b264",
   "metadata": {},
   "outputs": [],
   "source": [
    "from collections import deque"
   ]
  },
  {
   "cell_type": "code",
   "execution_count": 4,
   "id": "9dacb797",
   "metadata": {},
   "outputs": [
    {
     "name": "stdout",
     "output_type": "stream",
     "text": [
      "deque(['Í', 't', 'a', 'l', 'o', ' ', 'L', 'u', 'i', 'g', 'i'])\n"
     ]
    }
   ],
   "source": [
    "deq = deque('Ítalo Luigi')\n",
    "\n",
    "print(deq)"
   ]
  },
  {
   "cell_type": "markdown",
   "id": "552023d2",
   "metadata": {},
   "source": [
    "**Adicionando elementos no DEQUE**"
   ]
  },
  {
   "cell_type": "code",
   "execution_count": 5,
   "id": "388236de",
   "metadata": {},
   "outputs": [
    {
     "name": "stdout",
     "output_type": "stream",
     "text": [
      "deque(['Í', 't', 'a', 'l', 'o', ' ', 'L', 'u', 'i', 'g', 'i', ' '])\n"
     ]
    }
   ],
   "source": [
    "deq.append(' ')\n",
    "\n",
    "print(deq)"
   ]
  },
  {
   "cell_type": "markdown",
   "id": "577ba5d5",
   "metadata": {},
   "source": [
    "Adiciona ao final"
   ]
  },
  {
   "cell_type": "code",
   "execution_count": 6,
   "id": "1f336635",
   "metadata": {},
   "outputs": [
    {
     "name": "stdout",
     "output_type": "stream",
     "text": [
      "deque([' ', 'Í', 't', 'a', 'l', 'o', ' ', 'L', 'u', 'i', 'g', 'i', ' '])\n"
     ]
    }
   ],
   "source": [
    "deq.appendleft(' ')\n",
    "\n",
    "print(deq)"
   ]
  },
  {
   "cell_type": "markdown",
   "id": "4787bb0e",
   "metadata": {},
   "source": [
    "Foi adicionado ao inicio, não ao final"
   ]
  },
  {
   "cell_type": "markdown",
   "id": "01f6e052",
   "metadata": {},
   "source": [
    "**Remover elementos**"
   ]
  },
  {
   "cell_type": "code",
   "execution_count": 7,
   "id": "8f08482f",
   "metadata": {},
   "outputs": [
    {
     "name": "stdout",
     "output_type": "stream",
     "text": [
      " \n",
      "deque([' ', 'Í', 't', 'a', 'l', 'o', ' ', 'L', 'u', 'i', 'g', 'i'])\n"
     ]
    }
   ],
   "source": [
    "print(deq.pop())\n",
    "print(deq)"
   ]
  },
  {
   "cell_type": "markdown",
   "id": "4d50ecff",
   "metadata": {},
   "source": [
    "pop é um função que remove o ultimo elementos"
   ]
  },
  {
   "cell_type": "code",
   "execution_count": 9,
   "id": "45dc082d",
   "metadata": {},
   "outputs": [
    {
     "name": "stdout",
     "output_type": "stream",
     "text": [
      " \n",
      "deque(['Í', 't', 'a', 'l', 'o', ' ', 'L', 'u', 'i', 'g', 'i'])\n"
     ]
    }
   ],
   "source": [
    "print(deq.popleft())\n",
    "print(deq)"
   ]
  },
  {
   "cell_type": "markdown",
   "id": "f5c138d9",
   "metadata": {},
   "source": [
    "popleft remover o primeiro elemento"
   ]
  },
  {
   "cell_type": "code",
   "execution_count": 10,
   "id": "6b946c5b",
   "metadata": {},
   "outputs": [
    {
     "data": {
      "text/plain": [
       "['__add__',\n",
       " '__bool__',\n",
       " '__class__',\n",
       " '__class_getitem__',\n",
       " '__contains__',\n",
       " '__copy__',\n",
       " '__delattr__',\n",
       " '__delitem__',\n",
       " '__dir__',\n",
       " '__doc__',\n",
       " '__eq__',\n",
       " '__format__',\n",
       " '__ge__',\n",
       " '__getattribute__',\n",
       " '__getitem__',\n",
       " '__gt__',\n",
       " '__hash__',\n",
       " '__iadd__',\n",
       " '__imul__',\n",
       " '__init__',\n",
       " '__init_subclass__',\n",
       " '__iter__',\n",
       " '__le__',\n",
       " '__len__',\n",
       " '__lt__',\n",
       " '__mul__',\n",
       " '__ne__',\n",
       " '__new__',\n",
       " '__reduce__',\n",
       " '__reduce_ex__',\n",
       " '__repr__',\n",
       " '__reversed__',\n",
       " '__rmul__',\n",
       " '__setattr__',\n",
       " '__setitem__',\n",
       " '__sizeof__',\n",
       " '__str__',\n",
       " '__subclasshook__',\n",
       " 'append',\n",
       " 'appendleft',\n",
       " 'clear',\n",
       " 'copy',\n",
       " 'count',\n",
       " 'extend',\n",
       " 'extendleft',\n",
       " 'index',\n",
       " 'insert',\n",
       " 'maxlen',\n",
       " 'pop',\n",
       " 'popleft',\n",
       " 'remove',\n",
       " 'reverse',\n",
       " 'rotate']"
      ]
     },
     "execution_count": 10,
     "metadata": {},
     "output_type": "execute_result"
    }
   ],
   "source": [
    "dir(deq)"
   ]
  },
  {
   "cell_type": "code",
   "execution_count": null,
   "id": "77aa3bcb",
   "metadata": {},
   "outputs": [],
   "source": []
  }
 ],
 "metadata": {
  "kernelspec": {
   "display_name": "Python 3 (ipykernel)",
   "language": "python",
   "name": "python3"
  },
  "language_info": {
   "codemirror_mode": {
    "name": "ipython",
    "version": 3
   },
   "file_extension": ".py",
   "mimetype": "text/x-python",
   "name": "python",
   "nbconvert_exporter": "python",
   "pygments_lexer": "ipython3",
   "version": "3.9.7"
  }
 },
 "nbformat": 4,
 "nbformat_minor": 5
}
