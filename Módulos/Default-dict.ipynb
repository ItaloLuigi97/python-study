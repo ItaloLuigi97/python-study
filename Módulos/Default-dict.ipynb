{
 "cells": [
  {
   "cell_type": "markdown",
   "id": "b9432898",
   "metadata": {},
   "source": [
    "# Módulo DEFAULT DICT"
   ]
  },
  {
   "cell_type": "code",
   "execution_count": 3,
   "id": "d6983b7a",
   "metadata": {},
   "outputs": [
    {
     "name": "stdout",
     "output_type": "stream",
     "text": [
      "{'nome': 'Ítalo', 'sobrenome': 'Capita'}\n",
      "Ítalo\n"
     ]
    }
   ],
   "source": [
    "dicionario = {'nome': 'Ítalo', 'sobrenome': 'Capita'}\n",
    "\n",
    "print(dicionario)\n",
    "print(dicionario['nome'])\n",
    "# print(dicionario['outro']), como a chave 'outro' não existe, resultou em ERRO"
   ]
  },
  {
   "cell_type": "code",
   "execution_count": 4,
   "id": "df353634",
   "metadata": {},
   "outputs": [],
   "source": [
    "from collections import defaultdict"
   ]
  },
  {
   "cell_type": "markdown",
   "id": "7a6a4034",
   "metadata": {},
   "source": [
    "Lambdas são funções sem nome que podem ou não receber parametros de entrada e retornar valores"
   ]
  },
  {
   "cell_type": "code",
   "execution_count": 8,
   "id": "6c449e5a",
   "metadata": {},
   "outputs": [
    {
     "name": "stdout",
     "output_type": "stream",
     "text": [
      "defaultdict(<function <lambda> at 0x000002334D94FDC0>, {})\n",
      "defaultdict(<function <lambda> at 0x000002334D94FDC0>, {'nome_pai': 'Carlos Alberto'})\n",
      "0\n",
      "defaultdict(<function <lambda> at 0x000002334D94FDC0>, {'nome_pai': 'Carlos Alberto', 'outro': 0})\n"
     ]
    }
   ],
   "source": [
    "dicionario = defaultdict( lambda: 0)\n",
    "\n",
    "print(dicionario)\n",
    "\n",
    "dicionario['nome_pai'] = 'Carlos Alberto'\n",
    "\n",
    "print(dicionario)\n",
    "\n",
    "print(dicionario['outro']) # Repare que agora não possui um erro\n",
    "\n",
    "print(dicionario) # Note que não temos valor em 'outro'"
   ]
  },
  {
   "cell_type": "markdown",
   "id": "d31a582a",
   "metadata": {},
   "source": [
    "É útil porque fica salvo todas as buscas que tentaram fazer, por exemplo: 'outro'"
   ]
  },
  {
   "cell_type": "code",
   "execution_count": null,
   "id": "560c8377",
   "metadata": {},
   "outputs": [],
   "source": []
  }
 ],
 "metadata": {
  "kernelspec": {
   "display_name": "Python 3 (ipykernel)",
   "language": "python",
   "name": "python3"
  },
  "language_info": {
   "codemirror_mode": {
    "name": "ipython",
    "version": 3
   },
   "file_extension": ".py",
   "mimetype": "text/x-python",
   "name": "python",
   "nbconvert_exporter": "python",
   "pygments_lexer": "ipython3",
   "version": "3.9.7"
  }
 },
 "nbformat": 4,
 "nbformat_minor": 5
}
