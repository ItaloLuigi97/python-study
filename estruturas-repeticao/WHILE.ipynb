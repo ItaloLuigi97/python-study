{
 "cells": [
  {
   "cell_type": "markdown",
   "id": "ad7e1ae3",
   "metadata": {},
   "source": [
    "# Estrutura: WHILE"
   ]
  },
  {
   "cell_type": "markdown",
   "id": "38fef249",
   "metadata": {},
   "source": [
    "Esta é utilizada quando queremos fazer um loop, mas não sabemos o valor fixo das nossas condições, como no exemplo for"
   ]
  },
  {
   "cell_type": "markdown",
   "id": "32dfeb89",
   "metadata": {},
   "source": [
    "o LOOP WHILE é booleano, ou seja, enquanto a condição for TRUE, ele vai continuar rodando o looping"
   ]
  },
  {
   "cell_type": "markdown",
   "id": "f69d3ae9",
   "metadata": {},
   "source": [
    "# Exemplo: WHILE"
   ]
  },
  {
   "cell_type": "markdown",
   "id": "ccd9330e",
   "metadata": {},
   "source": [
    "Exemplo 1: Criando um loop WHILE"
   ]
  },
  {
   "cell_type": "code",
   "execution_count": 1,
   "id": "7459ebba",
   "metadata": {},
   "outputs": [
    {
     "name": "stdout",
     "output_type": "stream",
     "text": [
      "1\n",
      "2\n",
      "3\n",
      "4\n",
      "5\n",
      "6\n",
      "7\n",
      "8\n",
      "9\n"
     ]
    }
   ],
   "source": [
    "numero = 1\n",
    "while numero < 10:\n",
    "    print (numero)\n",
    "    numero = numero + 1"
   ]
  },
  {
   "cell_type": "markdown",
   "id": "906524bd",
   "metadata": {},
   "source": [
    "*OBS: Em um loop WHILE, é importante cuidarmos do critério de parada, senão vai ser um loop INFINITO. Para o exemplo acima, perceba que o nosso critério de parada é a soma ser menor que 10, no caso 9"
   ]
  },
  {
   "cell_type": "markdown",
   "id": "aeff4a60",
   "metadata": {},
   "source": [
    "Exemplo 2:"
   ]
  },
  {
   "cell_type": "code",
   "execution_count": 2,
   "id": "28546110",
   "metadata": {},
   "outputs": [
    {
     "name": "stdout",
     "output_type": "stream",
     "text": [
      "Já acabou Jéssica? nao\n",
      "Já acabou Jéssica? sim\n"
     ]
    }
   ],
   "source": [
    "resposta = ''\n",
    "\n",
    "while resposta != 'sim' :\n",
    "    resposta = input ('Já acabou Jéssica? ')"
   ]
  },
  {
   "cell_type": "markdown",
   "id": "bbd0d028",
   "metadata": {},
   "source": [
    "Note que para o exemplo acima, nosso critério de parada foi a 'resposta' ser 'sim'. Mas note também que criamos um objeto entitulado de 'resposta' onde não havia nenhuma instanciamento"
   ]
  }
 ],
 "metadata": {
  "kernelspec": {
   "display_name": "Python 3 (ipykernel)",
   "language": "python",
   "name": "python3"
  },
  "language_info": {
   "codemirror_mode": {
    "name": "ipython",
    "version": 3
   },
   "file_extension": ".py",
   "mimetype": "text/x-python",
   "name": "python",
   "nbconvert_exporter": "python",
   "pygments_lexer": "ipython3",
   "version": "3.9.7"
  }
 },
 "nbformat": 4,
 "nbformat_minor": 5
}
