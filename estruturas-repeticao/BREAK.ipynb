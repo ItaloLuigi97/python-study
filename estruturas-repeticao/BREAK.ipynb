{
 "cells": [
  {
   "cell_type": "markdown",
   "id": "952ab329",
   "metadata": {},
   "source": [
    "# Saindo de loops com: BREAK"
   ]
  },
  {
   "cell_type": "markdown",
   "id": "b727a3e3",
   "metadata": {},
   "source": [
    "Utilizamos o BREAK para sair de loops de maneira forçada ou projetada. Por exemplo quando criamos uma expressão infinita onde a máquina nunca vai parar de processar."
   ]
  },
  {
   "cell_type": "markdown",
   "id": "7c213309",
   "metadata": {},
   "source": [
    "Exemplo 1: Usando FOR"
   ]
  },
  {
   "cell_type": "code",
   "execution_count": 2,
   "id": "4e42c95a",
   "metadata": {},
   "outputs": [
    {
     "name": "stdout",
     "output_type": "stream",
     "text": [
      "1\n",
      "2\n",
      "3\n",
      "4\n",
      "5\n",
      "Sai do loop\n"
     ]
    }
   ],
   "source": [
    "for numero in range (1, 11):\n",
    "    if numero == 6:\n",
    "        break\n",
    "    else:\n",
    "        print(numero)\n",
    "print('Sai do loop')"
   ]
  },
  {
   "cell_type": "markdown",
   "id": "dc242d54",
   "metadata": {},
   "source": [
    "A condição de parada é instaurada quando numero atinge o valor igual a 6"
   ]
  },
  {
   "cell_type": "markdown",
   "id": "2f1661ce",
   "metadata": {},
   "source": [
    "Exemplo 2: Usando WHILE"
   ]
  },
  {
   "cell_type": "code",
   "execution_count": 3,
   "id": "626a4a58",
   "metadata": {},
   "outputs": [
    {
     "name": "stdout",
     "output_type": "stream",
     "text": [
      "Digite 'sair' para sair: sim\n",
      "Digite 'sair' para sair: sim\n",
      "Digite 'sair' para sair: sair\n"
     ]
    }
   ],
   "source": [
    "while True:\n",
    "    comando = input(\"Digite 'sair' para sair: \")\n",
    "    if comando == 'sair':\n",
    "        break"
   ]
  },
  {
   "cell_type": "markdown",
   "id": "b30b400d",
   "metadata": {},
   "source": [
    "O programa foi parado quando digitamos 'sair'"
   ]
  },
  {
   "cell_type": "code",
   "execution_count": null,
   "id": "11db04a9",
   "metadata": {},
   "outputs": [],
   "source": []
  }
 ],
 "metadata": {
  "kernelspec": {
   "display_name": "Python 3 (ipykernel)",
   "language": "python",
   "name": "python3"
  },
  "language_info": {
   "codemirror_mode": {
    "name": "ipython",
    "version": 3
   },
   "file_extension": ".py",
   "mimetype": "text/x-python",
   "name": "python",
   "nbconvert_exporter": "python",
   "pygments_lexer": "ipython3",
   "version": "3.9.7"
  }
 },
 "nbformat": 4,
 "nbformat_minor": 5
}
