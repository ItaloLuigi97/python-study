{
 "cells": [
  {
   "cell_type": "markdown",
   "id": "e09cc691",
   "metadata": {},
   "source": [
    "# LOOPS"
   ]
  },
  {
   "cell_type": "markdown",
   "id": "1fa75f9f",
   "metadata": {},
   "source": [
    "Loop é uma estrutura de repetição. Utilizamos loops para iterar sobre sequências ou sobre valores iteráveis"
   ]
  },
  {
   "cell_type": "markdown",
   "id": "64ab3229",
   "metadata": {},
   "source": [
    "For é uma dessas estruturas"
   ]
  },
  {
   "cell_type": "markdown",
   "id": "326aaae2",
   "metadata": {},
   "source": [
    "# Exemplo: ITERÁVEIS\n",
    "- strings\n",
    "- listas \n",
    "- ranges"
   ]
  },
  {
   "cell_type": "code",
   "execution_count": 1,
   "id": "33486335",
   "metadata": {},
   "outputs": [
    {
     "data": {
      "text/plain": [
       "'Í'"
      ]
     },
     "execution_count": 1,
     "metadata": {},
     "output_type": "execute_result"
    }
   ],
   "source": [
    "# Por exemplo: String\n",
    "nome = 'Ítalo Luigi'\n",
    "\n",
    "nome[0]"
   ]
  },
  {
   "cell_type": "markdown",
   "id": "e7539007",
   "metadata": {},
   "source": [
    "Perceba que uma string (nesse exemplo, 'Ítalo Luigi') é um item iterável, porque podemos fazer iterações com ele. Como selecionar o elemento zero, como feito na célula acima"
   ]
  },
  {
   "cell_type": "code",
   "execution_count": 4,
   "id": "7df77b68",
   "metadata": {},
   "outputs": [
    {
     "name": "stdout",
     "output_type": "stream",
     "text": [
      "[1, 3, 5, 7, 9]\n"
     ]
    }
   ],
   "source": [
    "# Exemplo: Lista\n",
    "lista = [ 1, 3, 5, 7, 9]\n",
    "print(lista)"
   ]
  },
  {
   "cell_type": "code",
   "execution_count": 5,
   "id": "b5888169",
   "metadata": {},
   "outputs": [
    {
     "name": "stdout",
     "output_type": "stream",
     "text": [
      "range(1, 10)\n"
     ]
    }
   ],
   "source": [
    "# Exemplo: range\n",
    "numeros = range(1,10)\n",
    "print(numeros)"
   ]
  },
  {
   "cell_type": "markdown",
   "id": "a54e99bf",
   "metadata": {},
   "source": [
    "# Estrutura: FOR"
   ]
  },
  {
   "cell_type": "code",
   "execution_count": 6,
   "id": "baf43a62",
   "metadata": {},
   "outputs": [],
   "source": [
    "# Para exemplificar o FOR com iteráveis, temos os seguintes objetos:\n",
    "nome = 'Ítalo Luigi'\n",
    "lista = [ 1, 3, 5, 7, 9]\n",
    "numeros = range (1,10) # Temos que tranformar em uma lista"
   ]
  },
  {
   "cell_type": "markdown",
   "id": "31d5f8c0",
   "metadata": {},
   "source": [
    "Exemplo 1: Iterando sobre uma String"
   ]
  },
  {
   "cell_type": "code",
   "execution_count": 7,
   "id": "da83f874",
   "metadata": {},
   "outputs": [
    {
     "name": "stdout",
     "output_type": "stream",
     "text": [
      "Í\n",
      "t\n",
      "a\n",
      "l\n",
      "o\n",
      " \n",
      "L\n",
      "u\n",
      "i\n",
      "g\n",
      "i\n"
     ]
    }
   ],
   "source": [
    "for letra in nome:\n",
    "    print(letra)"
   ]
  },
  {
   "cell_type": "markdown",
   "id": "f2142b53",
   "metadata": {},
   "source": [
    "Exemplo 2: Iterando sobre um lista"
   ]
  },
  {
   "cell_type": "code",
   "execution_count": 8,
   "id": "16c44a7b",
   "metadata": {},
   "outputs": [
    {
     "name": "stdout",
     "output_type": "stream",
     "text": [
      "1\n",
      "3\n",
      "5\n",
      "7\n",
      "9\n"
     ]
    }
   ],
   "source": [
    "for numero in lista:\n",
    "    print(numero)"
   ]
  },
  {
   "cell_type": "markdown",
   "id": "a24758c1",
   "metadata": {},
   "source": [
    "Exemplo 3: Iterando sobre um range"
   ]
  },
  {
   "cell_type": "code",
   "execution_count": 11,
   "id": "11a4e0cc",
   "metadata": {},
   "outputs": [
    {
     "name": "stdout",
     "output_type": "stream",
     "text": [
      "1\n",
      "2\n",
      "3\n",
      "4\n",
      "5\n",
      "6\n",
      "7\n",
      "8\n",
      "9\n"
     ]
    }
   ],
   "source": [
    "for numero in range(1,10):\n",
    "    print(numero)"
   ]
  },
  {
   "cell_type": "markdown",
   "id": "bb9fd72c",
   "metadata": {},
   "source": [
    "Exemplo 4: Imprimindo n valores"
   ]
  },
  {
   "cell_type": "code",
   "execution_count": 19,
   "id": "8ad0c066",
   "metadata": {},
   "outputs": [
    {
     "name": "stdout",
     "output_type": "stream",
     "text": [
      "Quantas vezes esse loop deve rodar? 4\n",
      "Imprimindo 1\n",
      "Imprimindo 2\n",
      "Imprimindo 3\n"
     ]
    }
   ],
   "source": [
    "quant = int (input ('Quantas vezes esse loop deve rodar? '))\n",
    "\n",
    "for n in range (1, quant):\n",
    "    print(f'Imprimindo {n}')"
   ]
  },
  {
   "cell_type": "markdown",
   "id": "a1b0e42e",
   "metadata": {},
   "source": [
    "Note que pedimos para que o 'n' fosse igual a 4, entretanto, o range não pega o último termo"
   ]
  },
  {
   "cell_type": "code",
   "execution_count": 27,
   "id": "7a7f5590",
   "metadata": {},
   "outputs": [
    {
     "name": "stdout",
     "output_type": "stream",
     "text": [
      "Informe o valor 1 / 9 valor: 4\n",
      "Informe o valor 2 / 9 valor: 9\n",
      "Informe o valor 3 / 9 valor: 9\n",
      "Informe o valor 4 / 9 valor: 5\n",
      "Informe o valor 5 / 9 valor: 9\n",
      "Informe o valor 6 / 9 valor: 3\n",
      "Informe o valor 7 / 9 valor: 9\n",
      "Informe o valor 8 / 9 valor: 5\n",
      "Informe o valor 9 / 9 valor: 5\n",
      "A soma é 58\n"
     ]
    }
   ],
   "source": [
    "soma = 0\n",
    "\n",
    "for n in range (1,10):\n",
    "    num = int (input (f'Informe o valor {n} / 9 valor: '))\n",
    "    soma = soma + num\n",
    "print (f'A soma é {soma}')"
   ]
  }
 ],
 "metadata": {
  "kernelspec": {
   "display_name": "Python 3 (ipykernel)",
   "language": "python",
   "name": "python3"
  },
  "language_info": {
   "codemirror_mode": {
    "name": "ipython",
    "version": 3
   },
   "file_extension": ".py",
   "mimetype": "text/x-python",
   "name": "python",
   "nbconvert_exporter": "python",
   "pygments_lexer": "ipython3",
   "version": "3.9.7"
  }
 },
 "nbformat": 4,
 "nbformat_minor": 5
}
