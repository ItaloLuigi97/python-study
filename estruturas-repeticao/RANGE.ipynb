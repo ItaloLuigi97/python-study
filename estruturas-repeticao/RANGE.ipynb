{
 "cells": [
  {
   "cell_type": "markdown",
   "id": "4de8d27e",
   "metadata": {},
   "source": [
    "# Entendendo e explorando RANGES\n",
    "Não é uma estrutura de repetição, mas uma função auxíliar"
   ]
  },
  {
   "cell_type": "markdown",
   "id": "0923040f",
   "metadata": {},
   "source": [
    "É necessário entender os LOOPS FOR para entender os RANGES"
   ]
  },
  {
   "cell_type": "markdown",
   "id": "7ae26416",
   "metadata": {},
   "source": [
    "Precisamos conhecer o RANGE para trabalhar melhor com o LOOP FOR"
   ]
  },
  {
   "cell_type": "markdown",
   "id": "4a13731a",
   "metadata": {},
   "source": [
    "# Exemplos: RANGES\n",
    "São utilizados para gerar sequências numéricas, não de forma aleatória, mas especificada"
   ]
  },
  {
   "cell_type": "markdown",
   "id": "743dd3bc",
   "metadata": {},
   "source": [
    "Forma 1: Passando apenas o valor de parada"
   ]
  },
  {
   "cell_type": "code",
   "execution_count": 2,
   "id": "c0c726fd",
   "metadata": {},
   "outputs": [
    {
     "name": "stdout",
     "output_type": "stream",
     "text": [
      "0\n",
      "1\n",
      "2\n",
      "3\n",
      "4\n",
      "5\n",
      "6\n",
      "7\n",
      "8\n",
      "9\n",
      "10\n"
     ]
    }
   ],
   "source": [
    "for num in range (11):\n",
    "    print(num)"
   ]
  },
  {
   "cell_type": "markdown",
   "id": "e1b0960e",
   "metadata": {},
   "source": [
    "Passando apenas um valor no range, será considerado que começa no zero, e o útlimo valor não está incluso no RANGE."
   ]
  },
  {
   "cell_type": "markdown",
   "id": "8a2f5ec5",
   "metadata": {},
   "source": [
    "Forma 2: Passando o valor de início e de fim"
   ]
  },
  {
   "cell_type": "code",
   "execution_count": 3,
   "id": "1de37465",
   "metadata": {},
   "outputs": [
    {
     "name": "stdout",
     "output_type": "stream",
     "text": [
      "1\n",
      "2\n",
      "3\n",
      "4\n",
      "5\n",
      "6\n",
      "7\n",
      "8\n",
      "9\n",
      "10\n"
     ]
    }
   ],
   "source": [
    "for num in range (1, 11):\n",
    "    print (num)"
   ]
  },
  {
   "cell_type": "markdown",
   "id": "3802d41b",
   "metadata": {},
   "source": [
    "É bem semelhante ao anterior, porém nçao inclui o último valor, por exemplo 11"
   ]
  },
  {
   "cell_type": "markdown",
   "id": "f4eb3873",
   "metadata": {},
   "source": [
    "Forma 3: Valor de inicio, parada e passo (específicado pelo usuário)"
   ]
  },
  {
   "cell_type": "code",
   "execution_count": 5,
   "id": "5e23f917",
   "metadata": {},
   "outputs": [
    {
     "name": "stdout",
     "output_type": "stream",
     "text": [
      "1\n",
      "3\n",
      "5\n",
      "7\n",
      "9\n"
     ]
    }
   ],
   "source": [
    "for num in range (1, 10, 2):\n",
    "    print (num)"
   ]
  },
  {
   "cell_type": "markdown",
   "id": "aa2bd72e",
   "metadata": {},
   "source": [
    "Note que há uma razão sendo seguida. Neste exemplo a razão é dois, ou seja, vai de dois em dois"
   ]
  },
  {
   "cell_type": "code",
   "execution_count": 6,
   "id": "7f1c8bab",
   "metadata": {},
   "outputs": [
    {
     "name": "stdout",
     "output_type": "stream",
     "text": [
      "1\n",
      "6\n",
      "11\n",
      "16\n",
      "21\n",
      "26\n",
      "31\n",
      "36\n",
      "41\n",
      "46\n",
      "51\n"
     ]
    }
   ],
   "source": [
    "# Outro exemplo: \n",
    "for num in range (1, 55, 5):\n",
    "    print (num)"
   ]
  },
  {
   "cell_type": "markdown",
   "id": "f29482fd",
   "metadata": {},
   "source": [
    "Forma 4: Identica ao método três, porém inverso. Valor de parada, valor de entrada e passo"
   ]
  },
  {
   "cell_type": "code",
   "execution_count": 10,
   "id": "04b31f9a",
   "metadata": {},
   "outputs": [
    {
     "name": "stdout",
     "output_type": "stream",
     "text": [
      "10\n",
      "9\n",
      "8\n",
      "7\n",
      "6\n",
      "5\n",
      "4\n",
      "3\n",
      "2\n",
      "1\n"
     ]
    }
   ],
   "source": [
    "for num in range (10, 0, -1):\n",
    "    print (num)"
   ]
  },
  {
   "cell_type": "code",
   "execution_count": 12,
   "id": "8b9c4ce6",
   "metadata": {},
   "outputs": [
    {
     "name": "stdout",
     "output_type": "stream",
     "text": [
      "55\n",
      "50\n",
      "45\n",
      "40\n",
      "35\n",
      "30\n",
      "25\n",
      "20\n",
      "15\n",
      "10\n",
      "5\n",
      "0\n",
      "-5\n"
     ]
    }
   ],
   "source": [
    "# Outro exemplo:\n",
    "for num in range (55, -10, -5):\n",
    "    print (num)"
   ]
  },
  {
   "cell_type": "markdown",
   "id": "d6c5a786",
   "metadata": {},
   "source": [
    "# Criando uma LISTA a partir de um RANGE"
   ]
  },
  {
   "cell_type": "code",
   "execution_count": 16,
   "id": "1ac7b424",
   "metadata": {},
   "outputs": [
    {
     "name": "stdout",
     "output_type": "stream",
     "text": [
      "[0, 1, 2, 3, 4, 5, 6, 7, 8, 9]\n"
     ]
    }
   ],
   "source": [
    "lista = list(range(10))\n",
    "print(lista)"
   ]
  }
 ],
 "metadata": {
  "kernelspec": {
   "display_name": "Python 3 (ipykernel)",
   "language": "python",
   "name": "python3"
  },
  "language_info": {
   "codemirror_mode": {
    "name": "ipython",
    "version": 3
   },
   "file_extension": ".py",
   "mimetype": "text/x-python",
   "name": "python",
   "nbconvert_exporter": "python",
   "pygments_lexer": "ipython3",
   "version": "3.9.7"
  }
 },
 "nbformat": 4,
 "nbformat_minor": 5
}
