{
 "cells": [
  {
   "cell_type": "markdown",
   "id": "e8782182",
   "metadata": {},
   "source": [
    "# Mapas"
   ]
  },
  {
   "cell_type": "markdown",
   "id": "122e7d4b",
   "metadata": {},
   "source": [
    "Na linguagem Python, mapas são dicionários. Dicionários são representados por chaves"
   ]
  },
  {
   "cell_type": "code",
   "execution_count": 1,
   "id": "0ea5745b",
   "metadata": {},
   "outputs": [],
   "source": [
    "salários = {'jan': 1800, 'fev': 2300, 'mar': 2900}"
   ]
  },
  {
   "cell_type": "code",
   "execution_count": 7,
   "id": "5adbf27f",
   "metadata": {},
   "outputs": [
    {
     "name": "stdout",
     "output_type": "stream",
     "text": [
      "{'jan': 1800, 'fev': 2300, 'mar': 2900}\n",
      "----------------------------------------\n",
      "jan\n",
      "fev\n",
      "mar\n",
      "----------------------------------------\n",
      "1800\n",
      "2300\n",
      "2900\n"
     ]
    }
   ],
   "source": [
    "# iterar sobre dicionários\n",
    "\n",
    "print(salários)\n",
    "\n",
    "print('----------------------------------------')\n",
    "\n",
    "for chave in salários:\n",
    "    print(chave)\n",
    "print('----------------------------------------')\n",
    "\n",
    "for chave in salários:\n",
    "    print(salários[chave])"
   ]
  },
  {
   "cell_type": "code",
   "execution_count": 11,
   "id": "37ca0adf",
   "metadata": {},
   "outputs": [
    {
     "name": "stdout",
     "output_type": "stream",
     "text": [
      " Em jan recebi R$ 1800\n",
      " Em fev recebi R$ 2300\n",
      " Em mar recebi R$ 2900\n"
     ]
    }
   ],
   "source": [
    "for chave in salários:\n",
    "    print(f' Em {chave} recebi R$ {salários[chave]}')"
   ]
  },
  {
   "cell_type": "markdown",
   "id": "2ce2c42b",
   "metadata": {},
   "source": [
    "**Acessando as chaves**"
   ]
  },
  {
   "cell_type": "code",
   "execution_count": 12,
   "id": "d0ec46ba",
   "metadata": {},
   "outputs": [
    {
     "name": "stdout",
     "output_type": "stream",
     "text": [
      "{'jan': 1800, 'fev': 2300, 'mar': 2900}\n",
      "dict_keys(['jan', 'fev', 'mar'])\n"
     ]
    }
   ],
   "source": [
    "print(salários)\n",
    "\n",
    "print(salários.keys())"
   ]
  },
  {
   "cell_type": "code",
   "execution_count": 13,
   "id": "eaf924d4",
   "metadata": {},
   "outputs": [
    {
     "name": "stdout",
     "output_type": "stream",
     "text": [
      "1800\n",
      "2300\n",
      "2900\n"
     ]
    }
   ],
   "source": [
    "for chave in salários.keys():\n",
    "    print(salários[chave])"
   ]
  },
  {
   "cell_type": "markdown",
   "id": "9ee503ca",
   "metadata": {},
   "source": [
    "**Acessando os valores**"
   ]
  },
  {
   "cell_type": "code",
   "execution_count": 15,
   "id": "10dd6646",
   "metadata": {},
   "outputs": [
    {
     "name": "stdout",
     "output_type": "stream",
     "text": [
      "dict_values([1800, 2300, 2900])\n",
      "1800\n",
      "2300\n",
      "2900\n"
     ]
    }
   ],
   "source": [
    "print(salários.values())\n",
    "\n",
    "for valor in salários.values():\n",
    "    print(valor)"
   ]
  },
  {
   "cell_type": "markdown",
   "id": "3f2b76b1",
   "metadata": {},
   "source": [
    "**Desempacotando dicionários**"
   ]
  },
  {
   "cell_type": "code",
   "execution_count": 17,
   "id": "804b116b",
   "metadata": {},
   "outputs": [
    {
     "name": "stdout",
     "output_type": "stream",
     "text": [
      "Chave=jan e valor=1800\n",
      "Chave=fev e valor=2300\n",
      "Chave=mar e valor=2900\n"
     ]
    }
   ],
   "source": [
    "for chave, valor in salários.items():\n",
    "    print(f'Chave={chave} e valor={valor}')"
   ]
  },
  {
   "cell_type": "markdown",
   "id": "485852c2",
   "metadata": {},
   "source": [
    "**Soma, valor máximo, mínimo e tamanho**"
   ]
  },
  {
   "cell_type": "markdown",
   "id": "90c8eebd",
   "metadata": {},
   "source": [
    "As operações acima só acontecem quando se tem inteiros e flutuantes. Strings, booleanos e outras estruturas não se aplicam"
   ]
  },
  {
   "cell_type": "code",
   "execution_count": 21,
   "id": "d4d527b5",
   "metadata": {},
   "outputs": [
    {
     "name": "stdout",
     "output_type": "stream",
     "text": [
      "7000\n",
      "2900\n",
      "1800\n",
      "3\n"
     ]
    }
   ],
   "source": [
    "# Soma\n",
    "print(sum(salários.values()))\n",
    "\n",
    "# Máximo\n",
    "print(max(salários.values()))\n",
    "\n",
    "# Mínimo\n",
    "print(min(salários.values()))\n",
    "\n",
    "# Tamanho\n",
    "print(len(salários.values()))"
   ]
  }
 ],
 "metadata": {
  "kernelspec": {
   "display_name": "Python 3 (ipykernel)",
   "language": "python",
   "name": "python3"
  },
  "language_info": {
   "codemirror_mode": {
    "name": "ipython",
    "version": 3
   },
   "file_extension": ".py",
   "mimetype": "text/x-python",
   "name": "python",
   "nbconvert_exporter": "python",
   "pygments_lexer": "ipython3",
   "version": "3.9.7"
  }
 },
 "nbformat": 4,
 "nbformat_minor": 5
}
