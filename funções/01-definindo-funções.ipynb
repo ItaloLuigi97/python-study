{
 "cells": [
  {
   "cell_type": "markdown",
   "id": "7d009b0f",
   "metadata": {},
   "source": [
    "# Definindo Funções"
   ]
  },
  {
   "cell_type": "markdown",
   "id": "c77c1de0",
   "metadata": {},
   "source": [
    "- Funções são pequenos trechos de código que realizam tarefas específicas.\n",
    "- Pode ou não receber entradas de dados e retornar uma saída de dados\n",
    "- Muito uteis para executar procedimentos similares por repetidas vezes"
   ]
  },
  {
   "cell_type": "markdown",
   "id": "af24a3bc",
   "metadata": {},
   "source": [
    "**OBS**: Se escrever uma função que realiza várias dentro dela, é interessante fazer uma verificação para que a função seja simplificada... Em outras palavras, deve ser feito funções simples"
   ]
  },
  {
   "cell_type": "markdown",
   "id": "fa97c4ed",
   "metadata": {},
   "source": [
    "**Exemplo de utilização de funções**"
   ]
  },
  {
   "cell_type": "code",
   "execution_count": 1,
   "id": "807a6399",
   "metadata": {},
   "outputs": [],
   "source": [
    "nomes = ['ítalo', 'ana', 'joao', 'clara']"
   ]
  },
  {
   "cell_type": "code",
   "execution_count": 8,
   "id": "489f7d28",
   "metadata": {},
   "outputs": [
    {
     "name": "stdout",
     "output_type": "stream",
     "text": [
      "['ítalo', 'ana', 'joao', 'clara', '´Maria']\n"
     ]
    }
   ],
   "source": [
    "# Utilizando a função integrada (Built-in) do Python\n",
    "\n",
    "print(nomes)"
   ]
  },
  {
   "cell_type": "code",
   "execution_count": 4,
   "id": "8254d750",
   "metadata": {},
   "outputs": [
    {
     "name": "stdout",
     "output_type": "stream",
     "text": [
      "['ítalo', 'ana', 'joao', 'clara', '´Maria']\n"
     ]
    }
   ],
   "source": [
    "nomes.append ('´Maria')\n",
    "\n",
    "print(nomes)"
   ]
  },
  {
   "cell_type": "markdown",
   "id": "a79d62ff",
   "metadata": {},
   "source": [
    "Perceba que até agora usamos apenas funções já definidas e nativas do Python"
   ]
  },
  {
   "cell_type": "markdown",
   "id": "6822334e",
   "metadata": {},
   "source": [
    "**OBS**: Perceba também que essas operações só podem ser feitas com listas, tuplas ..."
   ]
  },
  {
   "cell_type": "code",
   "execution_count": 6,
   "id": "df32cc1c",
   "metadata": {},
   "outputs": [
    {
     "name": "stdout",
     "output_type": "stream",
     "text": [
      "Help on built-in function print in module builtins:\n",
      "\n",
      "print(...)\n",
      "    print(value, ..., sep=' ', end='\\n', file=sys.stdout, flush=False)\n",
      "    \n",
      "    Prints the values to a stream, or to sys.stdout by default.\n",
      "    Optional keyword arguments:\n",
      "    file:  a file-like object (stream); defaults to the current sys.stdout.\n",
      "    sep:   string inserted between values, default a space.\n",
      "    end:   string appended after the last value, default a newline.\n",
      "    flush: whether to forcibly flush the stream.\n",
      "\n"
     ]
    }
   ],
   "source": [
    "help(print)"
   ]
  },
  {
   "cell_type": "markdown",
   "id": "1909b8e2",
   "metadata": {},
   "source": [
    "A função 'print' foi criada para evitar repetições de código, de forma simples e rápida. Esses são os objetivos das funções"
   ]
  },
  {
   "cell_type": "markdown",
   "id": "40028605",
   "metadata": {},
   "source": [
    "**Definindo uma função**"
   ]
  },
  {
   "cell_type": "markdown",
   "id": "f887fd24",
   "metadata": {},
   "source": [
    "def nome_da_funcao (parametros_de_entrada):\n",
    "    bloco da funcao"
   ]
  },
  {
   "cell_type": "markdown",
   "id": "fa0f511f",
   "metadata": {},
   "source": [
    "Note: \n",
    "- nome_da_funcao: sempre com letras minusculas e com underlines como separadores\n",
    "- parametro_de_entrada: opcionais, onde tendo mais de um, cada um separado por vírgula ou não\n",
    "- bloco_da_funcao: também chamado de corpo da função ou implementação, é onde o processo da função acontece"
   ]
  },
  {
   "cell_type": "code",
   "execution_count": 9,
   "id": "58d863b1",
   "metadata": {},
   "outputs": [],
   "source": [
    "# Definindo a primeira função\n",
    "\n",
    "def diz_oi():\n",
    "    print('oi')"
   ]
  },
  {
   "cell_type": "markdown",
   "id": "f6b54cd0",
   "metadata": {},
   "source": [
    "**OBS**: \n",
    "- Veja que dentro das nossas funções podemos utilizar outras funções\n",
    "- Veja que nossa função só executa 1 tarefa. Ela só diz 'oi'\n",
    "- Essa função não recebe nenhum parâmetro de entrada\n",
    "- Ela não retorna nada, apenas executa"
   ]
  },
  {
   "cell_type": "code",
   "execution_count": 10,
   "id": "2179618a",
   "metadata": {},
   "outputs": [
    {
     "name": "stdout",
     "output_type": "stream",
     "text": [
      "oi\n"
     ]
    }
   ],
   "source": [
    "# Chamada de execução\n",
    "\n",
    "diz_oi()"
   ]
  },
  {
   "cell_type": "markdown",
   "id": "9c5d511d",
   "metadata": {},
   "source": [
    "Agora que chamamos a função, obtemos um retorno"
   ]
  },
  {
   "cell_type": "code",
   "execution_count": 11,
   "id": "0b3c677b",
   "metadata": {},
   "outputs": [],
   "source": [
    "# Exemplo 2:\n",
    "\n",
    "def cantar_parabens():\n",
    "    print('Parabéns pra você')\n",
    "    print('Nesta data querida')\n",
    "    print('Muitas felicidades')\n",
    "    print('Muitos anos de vida')\n",
    "    print('Viva o aniversariante')"
   ]
  },
  {
   "cell_type": "code",
   "execution_count": 13,
   "id": "a5a390ca",
   "metadata": {},
   "outputs": [
    {
     "name": "stdout",
     "output_type": "stream",
     "text": [
      "Parabéns pra você\n",
      "Nesta data querida\n",
      "Muitas felicidades\n",
      "Muitos anos de vida\n",
      "Viva o aniversariante\n"
     ]
    }
   ],
   "source": [
    "# Chamando a função\n",
    "\n",
    "cantar_parabens()"
   ]
  },
  {
   "cell_type": "code",
   "execution_count": 15,
   "id": "3eecca27",
   "metadata": {},
   "outputs": [
    {
     "name": "stdout",
     "output_type": "stream",
     "text": [
      "Parabéns pra você\n",
      "Nesta data querida\n",
      "Muitas felicidades\n",
      "Muitos anos de vida\n",
      "Viva o aniversariante\n",
      "Parabéns pra você\n",
      "Nesta data querida\n",
      "Muitas felicidades\n",
      "Muitos anos de vida\n",
      "Viva o aniversariante\n",
      "Parabéns pra você\n",
      "Nesta data querida\n",
      "Muitas felicidades\n",
      "Muitos anos de vida\n",
      "Viva o aniversariante\n",
      "Parabéns pra você\n",
      "Nesta data querida\n",
      "Muitas felicidades\n",
      "Muitos anos de vida\n",
      "Viva o aniversariante\n",
      "Parabéns pra você\n",
      "Nesta data querida\n",
      "Muitas felicidades\n",
      "Muitos anos de vida\n",
      "Viva o aniversariante\n"
     ]
    }
   ],
   "source": [
    "# Podemos chamar a função dentro de um loop: for, while...\n",
    "\n",
    "for n in range(5):\n",
    "    cantar_parabens()"
   ]
  },
  {
   "cell_type": "markdown",
   "id": "ab4645f7",
   "metadata": {},
   "source": [
    "**OBS**: Em python, podemos inclusive criar variáveis do tipo de uma função e executar esta função através da variável"
   ]
  },
  {
   "cell_type": "code",
   "execution_count": 16,
   "id": "bc9465e8",
   "metadata": {},
   "outputs": [
    {
     "name": "stdout",
     "output_type": "stream",
     "text": [
      "Parabéns pra você\n",
      "Nesta data querida\n",
      "Muitas felicidades\n",
      "Muitos anos de vida\n",
      "Viva o aniversariante\n"
     ]
    }
   ],
   "source": [
    "canta = cantar_parabens\n",
    "\n",
    "canta()"
   ]
  }
 ],
 "metadata": {
  "kernelspec": {
   "display_name": "Python 3 (ipykernel)",
   "language": "python",
   "name": "python3"
  },
  "language_info": {
   "codemirror_mode": {
    "name": "ipython",
    "version": 3
   },
   "file_extension": ".py",
   "mimetype": "text/x-python",
   "name": "python",
   "nbconvert_exporter": "python",
   "pygments_lexer": "ipython3",
   "version": "3.9.7"
  }
 },
 "nbformat": 4,
 "nbformat_minor": 5
}
