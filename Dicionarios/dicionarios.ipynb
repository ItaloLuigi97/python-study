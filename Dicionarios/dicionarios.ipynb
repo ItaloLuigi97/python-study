{
 "cells": [
  {
   "cell_type": "markdown",
   "id": "938e8873",
   "metadata": {},
   "source": [
    "# Dicionários"
   ]
  },
  {
   "cell_type": "markdown",
   "id": "ba162cc1",
   "metadata": {},
   "source": [
    "Dicionários são semelhantes a mapas, porque se passa uma chave e um valor"
   ]
  },
  {
   "cell_type": "markdown",
   "id": "69e6948f",
   "metadata": {},
   "source": [
    "Dicionários são representados por { } "
   ]
  },
  {
   "cell_type": "code",
   "execution_count": 2,
   "id": "25dfec80",
   "metadata": {},
   "outputs": [
    {
     "name": "stdout",
     "output_type": "stream",
     "text": [
      "<class 'dict'>\n"
     ]
    }
   ],
   "source": [
    "# Exemplo:\n",
    "\n",
    "print(type({}))"
   ]
  },
  {
   "cell_type": "markdown",
   "id": "97301271",
   "metadata": {},
   "source": [
    "**Criação de Dicionários**"
   ]
  },
  {
   "cell_type": "code",
   "execution_count": 6,
   "id": "7e7cba33",
   "metadata": {},
   "outputs": [
    {
     "name": "stdout",
     "output_type": "stream",
     "text": [
      "{'br': 'Neymar', 'por': 'Cristiano Ronaldo', 'arg': 'Messi'}\n",
      "<class 'dict'>\n"
     ]
    }
   ],
   "source": [
    "# Forma 1:\n",
    "\n",
    "jogadores = {'br': 'Neymar', 'por': 'Cristiano Ronaldo', 'arg': 'Messi'}\n",
    "\n",
    "print(jogadores)\n",
    "print(type(jogadores))"
   ]
  },
  {
   "cell_type": "code",
   "execution_count": 7,
   "id": "eb982bf4",
   "metadata": {},
   "outputs": [
    {
     "name": "stdout",
     "output_type": "stream",
     "text": [
      "{'br': 'Neymar', 'por': 'Cristiano Ronaldo', 'arg': 'Messi'}\n",
      "<class 'dict'>\n"
     ]
    }
   ],
   "source": [
    "# Forma 2:\n",
    "\n",
    "jogadores1 = dict(br='Neymar', por='Cristiano Ronaldo', arg='Messi')\n",
    "\n",
    "print(jogadores1)\n",
    "print(type(jogadores1))"
   ]
  },
  {
   "cell_type": "markdown",
   "id": "7e516b65",
   "metadata": {},
   "source": [
    "**Acessando elementos**"
   ]
  },
  {
   "cell_type": "code",
   "execution_count": 10,
   "id": "a91c975d",
   "metadata": {},
   "outputs": [
    {
     "name": "stdout",
     "output_type": "stream",
     "text": [
      "Neymar\n",
      "Não encontrado\n"
     ]
    }
   ],
   "source": [
    "# Forma 1: Acessando via get (forma recomendada)\n",
    "\n",
    "print(jogadores.get('br'))\n",
    "print(jogadores.get('esp')) # Tipo None"
   ]
  },
  {
   "cell_type": "markdown",
   "id": "04cafea2",
   "metadata": {},
   "source": [
    "Perceba que estamos tentando pegar valores de dois dicionários: do Brasil e Espanha. Porém, não temos para Espanha, então retorna None."
   ]
  },
  {
   "cell_type": "markdown",
   "id": "f20e2452",
   "metadata": {},
   "source": [
    "Usamos o tipo None, quando queremos iniciar uma variável para ir iterando valores sobre ela, que até então está nula"
   ]
  },
  {
   "cell_type": "code",
   "execution_count": 11,
   "id": "b9ce8dbf",
   "metadata": {},
   "outputs": [
    {
     "name": "stdout",
     "output_type": "stream",
     "text": [
      "Neymar\n",
      "Não encontrado\n"
     ]
    }
   ],
   "source": [
    "print(jogadores.get('br'))\n",
    "print(jogadores.get('esp', 'Não encontrado')) "
   ]
  },
  {
   "cell_type": "code",
   "execution_count": 8,
   "id": "e01414e8",
   "metadata": {},
   "outputs": [
    {
     "name": "stdout",
     "output_type": "stream",
     "text": [
      "Neymar\n",
      "Messi\n"
     ]
    }
   ],
   "source": [
    "# Forma 2: Acessando via chave, assim como em listas e tuplas\n",
    "\n",
    "print(jogadores['br'])\n",
    "print(jogadores['arg'])\n",
    "\n",
    "# print(jogadores['esp']), se tentarmos rodar essa linha, dará erro, porque essa chave não existe"
   ]
  },
  {
   "cell_type": "markdown",
   "id": "431df17e",
   "metadata": {},
   "source": [
    "Isso acontece porque agora temos os indices definidos, ou seja, sabemos que o indice do Neymar é 'br', assim como o do Messi é 'arg'"
   ]
  },
  {
   "cell_type": "markdown",
   "id": "3422005c",
   "metadata": {},
   "source": [
    "**Checar elementos**"
   ]
  },
  {
   "cell_type": "code",
   "execution_count": 14,
   "id": "bcb4df09",
   "metadata": {},
   "outputs": [
    {
     "name": "stdout",
     "output_type": "stream",
     "text": [
      "True\n",
      "True\n",
      "False\n"
     ]
    }
   ],
   "source": [
    "print('br' in jogadores)\n",
    "print('por' in jogadores)\n",
    "print('esp' in jogadores)"
   ]
  },
  {
   "cell_type": "markdown",
   "id": "7c4486d3",
   "metadata": {},
   "source": [
    "Ele busca as chaves, ou seja, note que a chave 'esp' não está contida no dicionário"
   ]
  },
  {
   "cell_type": "markdown",
   "id": "805a9513",
   "metadata": {},
   "source": [
    "**Aceita qualquer tipo de valor** "
   ]
  },
  {
   "cell_type": "markdown",
   "id": "ec6d47bd",
   "metadata": {},
   "source": [
    "Seja tuplas, listas, dicionarios (sim, um dict dentro de outro), int, float, ..."
   ]
  },
  {
   "cell_type": "code",
   "execution_count": 17,
   "id": "c8ba0877",
   "metadata": {},
   "outputs": [
    {
     "name": "stdout",
     "output_type": "stream",
     "text": [
      "{(1924, 1993): 'Ana Maria', (1940, 1982): 'João Pedro', (1997,): 'Ítalo Luigi'}\n",
      "<class 'dict'>\n"
     ]
    }
   ],
   "source": [
    "# Exemplo:\n",
    "\n",
    "tempo_vida = {\n",
    "    (1924, 1993): 'Ana Maria',\n",
    "    (1940, 1982): 'João Pedro',\n",
    "    (1997, ): 'Ítalo Luigi'\n",
    "}\n",
    "\n",
    "print(tempo_vida)\n",
    "print(type(tempo_vida))"
   ]
  },
  {
   "cell_type": "markdown",
   "id": "49f392b6",
   "metadata": {},
   "source": [
    "É interessante colocar tuplas em dicionários, pois são imutáveis"
   ]
  },
  {
   "cell_type": "markdown",
   "id": "9f81d5a3",
   "metadata": {},
   "source": [
    "**Adicionar elementos no dicionário**"
   ]
  },
  {
   "cell_type": "code",
   "execution_count": 19,
   "id": "9d3b5914",
   "metadata": {},
   "outputs": [
    {
     "name": "stdout",
     "output_type": "stream",
     "text": [
      "{'jan': 1800, 'fev': 2300, 'mar': 2400}\n",
      "<class 'dict'>\n",
      "{'jan': 1800, 'fev': 2300, 'mar': 2400, 'abr': 3100}\n",
      "<class 'dict'>\n"
     ]
    }
   ],
   "source": [
    "# Forma 1:\n",
    "\n",
    "salário = { 'jan': 1800, 'fev': 2300, 'mar': 2400}\n",
    "print(salário)\n",
    "print(type(salário))\n",
    "\n",
    "# Adicionando\n",
    "salário['abr'] = 3100\n",
    "print(salário)\n",
    "print(type(salário))"
   ]
  },
  {
   "cell_type": "code",
   "execution_count": 22,
   "id": "d560143d",
   "metadata": {},
   "outputs": [
    {
     "name": "stdout",
     "output_type": "stream",
     "text": [
      "{'jan': 1800, 'fev': 2300, 'mar': 2400, 'abr': 3100, 'mai': 3150}\n",
      "<class 'dict'>\n"
     ]
    }
   ],
   "source": [
    "# Forma 2:\n",
    "\n",
    "salário.update({'mai': 3150})\n",
    "print(salário)\n",
    "print(type(salário))"
   ]
  },
  {
   "cell_type": "markdown",
   "id": "bde0dbb3",
   "metadata": {},
   "source": [
    "**Atualizando dados em um dicionário**"
   ]
  },
  {
   "cell_type": "code",
   "execution_count": 24,
   "id": "f4141979",
   "metadata": {},
   "outputs": [
    {
     "name": "stdout",
     "output_type": "stream",
     "text": [
      "{'jan': 1800, 'fev': 2300, 'mar': 2400, 'abr': 3100, 'mai': 3150, 'jun': 2900}\n",
      "{'jan': 1800, 'fev': 2300, 'mar': 2400, 'abr': 3100, 'mai': 3150, 'jun': 2850}\n"
     ]
    }
   ],
   "source": [
    "# Forma 1:\n",
    "\n",
    "salário['jun'] = 2900\n",
    "print (salário)\n",
    "\n",
    "salário.update({'jun': 2850})\n",
    "print(salário)"
   ]
  },
  {
   "cell_type": "markdown",
   "id": "79e44081",
   "metadata": {},
   "source": [
    "Note que a forma de atualizar e adicionar elementos são iguais"
   ]
  },
  {
   "cell_type": "markdown",
   "id": "613085ee",
   "metadata": {},
   "source": [
    "Em dicionários, **NÃO** podemos ter chaves repetidas"
   ]
  },
  {
   "cell_type": "markdown",
   "id": "eb52c17f",
   "metadata": {},
   "source": [
    "**Remover dados de um dicionário**"
   ]
  },
  {
   "cell_type": "code",
   "execution_count": 25,
   "id": "a60b4dda",
   "metadata": {},
   "outputs": [
    {
     "name": "stdout",
     "output_type": "stream",
     "text": [
      "{'jan': 1800, 'fev': 2300, 'mar': 2400, 'abr': 3100, 'mai': 3150, 'jun': 2850}\n",
      "{'jan': 1800, 'fev': 2300, 'mar': 2400, 'abr': 3100, 'mai': 3150}\n"
     ]
    }
   ],
   "source": [
    "# Forma 1:\n",
    "\n",
    "print(salário)\n",
    "salário.pop('jun')\n",
    "print(salário)"
   ]
  },
  {
   "cell_type": "markdown",
   "id": "1f360f98",
   "metadata": {},
   "source": [
    "Precisamos sempre informar a chave. Se a chave não for encontrada, será retornado um erro"
   ]
  },
  {
   "cell_type": "code",
   "execution_count": 26,
   "id": "f1ee718b",
   "metadata": {},
   "outputs": [
    {
     "name": "stdout",
     "output_type": "stream",
     "text": [
      "{'jan': 1800, 'fev': 2300, 'mar': 2400, 'abr': 3100, 'mai': 3150}\n",
      "3150\n"
     ]
    }
   ],
   "source": [
    "# Se quisermos saber o valor que foi removido, basta: \n",
    "\n",
    "print(salário)\n",
    "valor = salário.pop('mai')\n",
    "print(valor)"
   ]
  },
  {
   "cell_type": "code",
   "execution_count": 27,
   "id": "620a94b2",
   "metadata": {},
   "outputs": [
    {
     "name": "stdout",
     "output_type": "stream",
     "text": [
      "{'jan': 1800, 'fev': 2300, 'mar': 2400, 'abr': 3100}\n",
      "{'jan': 1800, 'fev': 2300, 'mar': 2400}\n"
     ]
    }
   ],
   "source": [
    "# Forma 2:\n",
    "\n",
    "print(salário)\n",
    "del salário['abr']\n",
    "print(salário)"
   ]
  },
  {
   "cell_type": "markdown",
   "id": "6c18f50c",
   "metadata": {},
   "source": [
    "Se a chave não existir, será retornado um erro"
   ]
  },
  {
   "cell_type": "markdown",
   "id": "4071c23a",
   "metadata": {},
   "source": [
    "# Exemplo prático"
   ]
  },
  {
   "cell_type": "markdown",
   "id": "9f0ea6d2",
   "metadata": {},
   "source": [
    "Vamos supor que estamos em um supermecado!"
   ]
  },
  {
   "cell_type": "code",
   "execution_count": null,
   "id": "22f1cc29",
   "metadata": {},
   "outputs": [],
   "source": [
    "Carrinho de compras:\n",
    "    Produto1:\n",
    "        -nome\n",
    "        -qtd\n",
    "        -preço\n",
    "    Produto2:\n",
    "        -nome\n",
    "        -qtd\n",
    "        -preço"
   ]
  },
  {
   "cell_type": "code",
   "execution_count": 28,
   "id": "252c99ea",
   "metadata": {},
   "outputs": [
    {
     "name": "stdout",
     "output_type": "stream",
     "text": [
      "[['Leite', 12, 60.0], ['banana', 6, 4.5]]\n"
     ]
    }
   ],
   "source": [
    "# Vamos aplicar o exemplo:\n",
    "\n",
    "carrinho = []\n",
    "\n",
    "produto1 = ['Leite', 12, 60.00]\n",
    "produto2 = ['banana', 6, 4.50]\n",
    "\n",
    "carrinho.append(produto1)\n",
    "carrinho.append(produto2)\n",
    "\n",
    "print(carrinho)"
   ]
  },
  {
   "cell_type": "markdown",
   "id": "78b2cb2a",
   "metadata": {},
   "source": [
    "Este exemplo acima é feito com listas. Note que não temos os indices, então não é trivial saber o que significa o '60.00' e '4.50' que são os preços dos produtos"
   ]
  },
  {
   "cell_type": "markdown",
   "id": "385ef5dc",
   "metadata": {},
   "source": [
    "Os dicionários são importante por causa disso, podemos passar uma chave para valor"
   ]
  },
  {
   "cell_type": "code",
   "execution_count": 30,
   "id": "c63b9604",
   "metadata": {},
   "outputs": [
    {
     "name": "stdout",
     "output_type": "stream",
     "text": [
      "(('Leite', 12, 60.0), ('banana', 6, 4.5))\n"
     ]
    }
   ],
   "source": [
    "# Exemplo: carrinho com tuplas\n",
    "\n",
    "produto1 = ('Leite', 12, 60.00)\n",
    "produto2 = ('banana', 6, 4.50)\n",
    "\n",
    "carrinho = (produto1, produto2)\n",
    "print(carrinho)"
   ]
  },
  {
   "cell_type": "markdown",
   "id": "8c533052",
   "metadata": {},
   "source": [
    "Mas ainda não esta resolvido o problema dos indices..."
   ]
  },
  {
   "cell_type": "code",
   "execution_count": 32,
   "id": "9786b513",
   "metadata": {},
   "outputs": [
    {
     "name": "stdout",
     "output_type": "stream",
     "text": [
      "[{'nome': ' Leite', 'quantidade': 12, 'preço': 60.0}, {'nome': 'banana', 'quantidade': 6, 'preço': 4.5}]\n"
     ]
    }
   ],
   "source": [
    "# Exemplo3: Usando um dicionário (finalmente... kkkk )\n",
    "\n",
    "carrinho = []\n",
    "\n",
    "produto1 = {'nome':' Leite','quantidade': 12,'preço': 60.00}\n",
    "produto2 = {'nome': 'banana','quantidade': 6,'preço': 4.50}\n",
    "\n",
    "carrinho.append(produto1)\n",
    "carrinho.append(produto2)\n",
    "\n",
    "print(carrinho)"
   ]
  },
  {
   "cell_type": "markdown",
   "id": "e07ec296",
   "metadata": {},
   "source": [
    "Dessa forma, facilmente add ou removemos produtos desse carrinho"
   ]
  },
  {
   "cell_type": "markdown",
   "id": "13e4cb7d",
   "metadata": {},
   "source": [
    "**Funcionalidades dos dicionários**"
   ]
  },
  {
   "cell_type": "code",
   "execution_count": 33,
   "id": "cef4c6bd",
   "metadata": {},
   "outputs": [
    {
     "data": {
      "text/plain": [
       "['__class__',\n",
       " '__class_getitem__',\n",
       " '__contains__',\n",
       " '__delattr__',\n",
       " '__delitem__',\n",
       " '__dir__',\n",
       " '__doc__',\n",
       " '__eq__',\n",
       " '__format__',\n",
       " '__ge__',\n",
       " '__getattribute__',\n",
       " '__getitem__',\n",
       " '__gt__',\n",
       " '__hash__',\n",
       " '__init__',\n",
       " '__init_subclass__',\n",
       " '__ior__',\n",
       " '__iter__',\n",
       " '__le__',\n",
       " '__len__',\n",
       " '__lt__',\n",
       " '__ne__',\n",
       " '__new__',\n",
       " '__or__',\n",
       " '__reduce__',\n",
       " '__reduce_ex__',\n",
       " '__repr__',\n",
       " '__reversed__',\n",
       " '__ror__',\n",
       " '__setattr__',\n",
       " '__setitem__',\n",
       " '__sizeof__',\n",
       " '__str__',\n",
       " '__subclasshook__',\n",
       " 'clear',\n",
       " 'copy',\n",
       " 'fromkeys',\n",
       " 'get',\n",
       " 'items',\n",
       " 'keys',\n",
       " 'pop',\n",
       " 'popitem',\n",
       " 'setdefault',\n",
       " 'update',\n",
       " 'values']"
      ]
     },
     "execution_count": 33,
     "metadata": {},
     "output_type": "execute_result"
    }
   ],
   "source": [
    "dir({})"
   ]
  },
  {
   "cell_type": "code",
   "execution_count": 41,
   "id": "5f62bc38",
   "metadata": {},
   "outputs": [
    {
     "name": "stdout",
     "output_type": "stream",
     "text": [
      "{'a': 1, 'b': 2, 'c': 3}\n",
      "<class 'dict'>\n"
     ]
    }
   ],
   "source": [
    "# Vamos ver algumas aplicações:\n",
    "\n",
    "dic = dict(a =1, b=2, c=3)\n",
    "print(dic)\n",
    "print(type(dic))"
   ]
  },
  {
   "cell_type": "code",
   "execution_count": 40,
   "id": "b4c4842c",
   "metadata": {},
   "outputs": [
    {
     "name": "stdout",
     "output_type": "stream",
     "text": [
      "{}\n"
     ]
    }
   ],
   "source": [
    "# Limpar o dicionário:\n",
    "\n",
    "dic.clear()\n",
    "print(dic)"
   ]
  },
  {
   "cell_type": "markdown",
   "id": "d385681a",
   "metadata": {},
   "source": [
    "Ele fica limpo, vazio"
   ]
  },
  {
   "cell_type": "code",
   "execution_count": 43,
   "id": "aa8cb589",
   "metadata": {},
   "outputs": [
    {
     "name": "stdout",
     "output_type": "stream",
     "text": [
      "{'a': 1, 'b': 2, 'c': 3}\n",
      "{'a': 1, 'b': 2, 'c': 3}\n",
      "{'a': 1, 'b': 2, 'c': 3, 'd': 4}\n"
     ]
    }
   ],
   "source": [
    "# Copiando o cicionário\n",
    "\n",
    "new = dic.copy()\n",
    "print(new)\n",
    "\n",
    "# Adicionando valores no dicionário\n",
    "\n",
    "new['d']=4\n",
    "print(dic)\n",
    "print(new)"
   ]
  },
  {
   "cell_type": "markdown",
   "id": "df57204c",
   "metadata": {},
   "source": [
    "Foi add no novo, e no antigo não. (Deep copy)"
   ]
  },
  {
   "cell_type": "code",
   "execution_count": 45,
   "id": "f2bcb8ab",
   "metadata": {},
   "outputs": [
    {
     "name": "stdout",
     "output_type": "stream",
     "text": [
      "{'a': 1, 'b': 2, 'c': 3}\n",
      "{'a': 1, 'b': 2, 'c': 3, 'd': 4}\n",
      "{'a': 1, 'b': 2, 'c': 3, 'd': 4}\n"
     ]
    }
   ],
   "source": [
    "# Copiando o cicionário\n",
    "\n",
    "new = dic\n",
    "print(new)\n",
    "\n",
    "# Adicionando valores no dicionário\n",
    "\n",
    "new['d']=4\n",
    "print(dic)\n",
    "print(new)"
   ]
  },
  {
   "cell_type": "markdown",
   "id": "d0d9a513",
   "metadata": {},
   "source": [
    "Agora os dois sofreram as mesma alterações. (Shallow copy)"
   ]
  }
 ],
 "metadata": {
  "kernelspec": {
   "display_name": "Python 3 (ipykernel)",
   "language": "python",
   "name": "python3"
  },
  "language_info": {
   "codemirror_mode": {
    "name": "ipython",
    "version": 3
   },
   "file_extension": ".py",
   "mimetype": "text/x-python",
   "name": "python",
   "nbconvert_exporter": "python",
   "pygments_lexer": "ipython3",
   "version": "3.9.7"
  }
 },
 "nbformat": 4,
 "nbformat_minor": 5
}
