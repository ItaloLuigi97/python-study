{
 "cells": [
  {
   "cell_type": "markdown",
   "id": "bbaa0d83",
   "metadata": {},
   "source": [
    "# Conjuntos"
   ]
  },
  {
   "cell_type": "markdown",
   "id": "b00102a4",
   "metadata": {},
   "source": [
    "Conjuntos são uma referência a conjuntos matemáticos"
   ]
  },
  {
   "cell_type": "markdown",
   "id": "58686ee4",
   "metadata": {},
   "source": [
    "Em python, os conjuntos são **SETS** e não possuem valores duplicados, ordenados, e não possuem indices"
   ]
  },
  {
   "cell_type": "markdown",
   "id": "d39e9732",
   "metadata": {},
   "source": [
    "**Quando usar?**: Para armazenar elementos, mas que não precisam ser ordenados. "
   ]
  },
  {
   "cell_type": "markdown",
   "id": "0422a723",
   "metadata": {},
   "source": [
    "Os conjuntos são referenciados por { }. Porém, a sua diferença em relação a dicionários, que também são criados por chaves, é que o dicionário possui chave, o conjunto(sets) só valores"
   ]
  },
  {
   "cell_type": "markdown",
   "id": "aacde6c5",
   "metadata": {},
   "source": [
    "**Criando Sets**"
   ]
  },
  {
   "cell_type": "code",
   "execution_count": 1,
   "id": "3e3f687a",
   "metadata": {},
   "outputs": [
    {
     "name": "stdout",
     "output_type": "stream",
     "text": [
      "{1, 2, 3, 4, 5, 7}\n",
      "<class 'set'>\n"
     ]
    }
   ],
   "source": [
    "# Forma 1:\n",
    "\n",
    "s = set({1, 2, 3, 4, 5, 5, 5, 7, 2, 3})\n",
    "\n",
    "print(s)\n",
    "print(type(s))"
   ]
  },
  {
   "cell_type": "markdown",
   "id": "8860b44e",
   "metadata": {},
   "source": [
    "Perceba que por ser um conjunto, ele ignora os valores duplicados, pois já consta no conjunto"
   ]
  },
  {
   "cell_type": "code",
   "execution_count": 2,
   "id": "8b06119e",
   "metadata": {},
   "outputs": [
    {
     "name": "stdout",
     "output_type": "stream",
     "text": [
      "{1, 2, 3, 4, 5}\n",
      "<class 'set'>\n",
      "5\n"
     ]
    }
   ],
   "source": [
    "# Forma 2: Mais comum\n",
    "\n",
    "s = {1, 2, 3, 4, 4, 5, 5}\n",
    "\n",
    "print(s)\n",
    "print(type(s))\n",
    "print(len(s)) # Observe que até mesmo o tamanho é considerado sem repetições"
   ]
  },
  {
   "cell_type": "code",
   "execution_count": 4,
   "id": "dfce4499",
   "metadata": {},
   "outputs": [
    {
     "name": "stdout",
     "output_type": "stream",
     "text": [
      "{'Ítalo Luigi'}\n",
      "<class 'set'>\n"
     ]
    }
   ],
   "source": [
    "# Sets com Strings\n",
    "\n",
    "s = {'Ítalo Luigi'}\n",
    "\n",
    "print(s)\n",
    "print(type(s))"
   ]
  },
  {
   "cell_type": "markdown",
   "id": "3411160c",
   "metadata": {},
   "source": [
    "**Verificar se o elemento está no conjunto**"
   ]
  },
  {
   "cell_type": "code",
   "execution_count": 6,
   "id": "33e76a44",
   "metadata": {},
   "outputs": [
    {
     "name": "stdout",
     "output_type": "stream",
     "text": [
      "Tem o 2\n"
     ]
    }
   ],
   "source": [
    "# Exemplo:\n",
    "\n",
    "s = {1, 2, 3, 4}\n",
    "\n",
    "if 2 in s:\n",
    "    print('Tem o 2')\n",
    "else:\n",
    "    print('Não tem o 2')"
   ]
  },
  {
   "cell_type": "markdown",
   "id": "0b9beb8b",
   "metadata": {},
   "source": [
    "**CONJUNTOS não possuem duplicatas e ordem**"
   ]
  },
  {
   "cell_type": "code",
   "execution_count": 12,
   "id": "c799baba",
   "metadata": {},
   "outputs": [
    {
     "name": "stdout",
     "output_type": "stream",
     "text": [
      "Lista: [0, 4, 7, 3, 6, 4, 3, 6] com 8 elementos\n",
      "Tupla: (0, 4, 7, 3, 6, 4, 3, 6) com 8 elementos\n",
      "Conjunto: {0, 3, 4, 6, 7} com 5 elementos\n"
     ]
    }
   ],
   "source": [
    "# Exemplo\n",
    "\n",
    "lista = [0, 4, 7, 3, 6, 4, 3, 6]\n",
    "print(f'Lista: {lista} com {len(lista)} elementos')\n",
    "\n",
    "tupla = (0, 4, 7, 3, 6, 4, 3, 6)\n",
    "print(f'Tupla: {tupla} com {len(tupla)} elementos')\n",
    "\n",
    "conjunto = {0, 4, 7, 3, 6, 4, 3, 6}\n",
    "print(f'Conjunto: {conjunto} com {len(conjunto)} elementos')\n"
   ]
  },
  {
   "cell_type": "markdown",
   "id": "4ead69fe",
   "metadata": {},
   "source": [
    "Perceba que não precisamos ordenar os dados, pois ele já faz isso por sí só, diferente das demais estruturas"
   ]
  },
  {
   "cell_type": "markdown",
   "id": "b2851762",
   "metadata": {},
   "source": [
    "**Dados misturados**: Aceita todo tipo de dado"
   ]
  },
  {
   "cell_type": "code",
   "execution_count": 15,
   "id": "30bc0a7d",
   "metadata": {},
   "outputs": [
    {
     "name": "stdout",
     "output_type": "stream",
     "text": [
      "{1, 2, 4, 'b'}\n",
      "<class 'set'>\n"
     ]
    }
   ],
   "source": [
    "# Exemplo\n",
    "\n",
    "s = { 1, 'b', True, 2, 4, 1}\n",
    "\n",
    "print(s)\n",
    "print(type(s))"
   ]
  },
  {
   "cell_type": "markdown",
   "id": "4d53d953",
   "metadata": {},
   "source": [
    "**Iterações**"
   ]
  },
  {
   "cell_type": "code",
   "execution_count": 16,
   "id": "6ffdf6b7",
   "metadata": {},
   "outputs": [
    {
     "name": "stdout",
     "output_type": "stream",
     "text": [
      "1\n",
      "2\n",
      "4\n",
      "b\n"
     ]
    }
   ],
   "source": [
    "# Exemplo\n",
    "\n",
    "for valor in s:\n",
    "    print(valor)"
   ]
  },
  {
   "cell_type": "markdown",
   "id": "788e2814",
   "metadata": {},
   "source": [
    "**EXEMPLO**"
   ]
  },
  {
   "cell_type": "markdown",
   "id": "0d567a20",
   "metadata": {},
   "source": [
    "Em uma comando de bar recebe-se inumeros pedidos, dentre eles alguns repetidos.\n",
    "Adicionamos cada pedido em uma lista Python, já que na lista pode-se ter repetições"
   ]
  },
  {
   "cell_type": "code",
   "execution_count": 19,
   "id": "e2287c97",
   "metadata": {},
   "outputs": [
    {
     "name": "stdout",
     "output_type": "stream",
     "text": [
      "['Cerveja', 'Drink', 'Petisco', 'Cerveja', 'Cerveja', 'Drink', 'Cerveja', 'Petisco']\n",
      "8\n"
     ]
    }
   ],
   "source": [
    "comanda = ['Cerveja', 'Drink', 'Petisco', 'Cerveja', 'Cerveja',\n",
    "          'Drink', 'Cerveja', 'Petisco']\n",
    "\n",
    "print(comanda)\n",
    "print(len(comanda))"
   ]
  },
  {
   "cell_type": "markdown",
   "id": "61aed336",
   "metadata": {},
   "source": [
    "Há 8 pedidos em nossa comanda. E se quisermos saber os valores distintos que possuimos nela?"
   ]
  },
  {
   "cell_type": "code",
   "execution_count": 22,
   "id": "616b66d0",
   "metadata": {},
   "outputs": [
    {
     "name": "stdout",
     "output_type": "stream",
     "text": [
      "{'Cerveja', 'Petisco', 'Drink'}\n",
      "3\n"
     ]
    }
   ],
   "source": [
    "print(set(comanda))\n",
    "print(len(set(comanda)))"
   ]
  },
  {
   "cell_type": "markdown",
   "id": "48a9215c",
   "metadata": {},
   "source": [
    "Perceba que o set foi mais prático que outra forma de loop"
   ]
  },
  {
   "cell_type": "markdown",
   "id": "1f797507",
   "metadata": {},
   "source": [
    "**Adicionando elementos em um conjunto**"
   ]
  },
  {
   "cell_type": "code",
   "execution_count": 30,
   "id": "b4e58b4d",
   "metadata": {},
   "outputs": [
    {
     "name": "stdout",
     "output_type": "stream",
     "text": [
      "{1, 2, 3, 4}\n",
      "{1, 2, 3, 4}\n"
     ]
    }
   ],
   "source": [
    "# Exemplo:\n",
    "\n",
    "s = {1, 2, 3}\n",
    "\n",
    "s.add(4)\n",
    "print(s)\n",
    "\n",
    "s.add(4)\n",
    "print(s)"
   ]
  },
  {
   "cell_type": "markdown",
   "id": "6b6e3529",
   "metadata": {},
   "source": [
    "Perceba que duplicidade não gera erros, porém não adiciona o valor dentro do conjunto"
   ]
  },
  {
   "cell_type": "markdown",
   "id": "891bd1ea",
   "metadata": {},
   "source": [
    "**Remover elementos de um conjunto**"
   ]
  },
  {
   "cell_type": "code",
   "execution_count": 26,
   "id": "707b3fab",
   "metadata": {},
   "outputs": [
    {
     "name": "stdout",
     "output_type": "stream",
     "text": [
      "{1, 2}\n"
     ]
    }
   ],
   "source": [
    "# Forma 1:\n",
    "\n",
    "s = {1, 2, 3}\n",
    "\n",
    "s.remove(3)\n",
    "print(s)\n",
    "\n",
    "# s.remove(23), se o valor não for encontrado, gera um key error"
   ]
  },
  {
   "cell_type": "markdown",
   "id": "a14749fb",
   "metadata": {},
   "source": [
    "Como citado acima, não existem index nos conjuntos, portanto o valor que desejar remover será excluído"
   ]
  },
  {
   "cell_type": "code",
   "execution_count": 32,
   "id": "d33e814e",
   "metadata": {},
   "outputs": [
    {
     "name": "stdout",
     "output_type": "stream",
     "text": [
      "{1, 3}\n"
     ]
    }
   ],
   "source": [
    "# Forma 2:\n",
    "\n",
    "s = {1, 2, 3}\n",
    "\n",
    "s.discard(2)\n",
    "print(s)"
   ]
  },
  {
   "cell_type": "markdown",
   "id": "a171e9af",
   "metadata": {},
   "source": [
    "Nessa segunda forma, se o valor não for encontrado, nenhum erro é gerado"
   ]
  },
  {
   "cell_type": "markdown",
   "id": "67835cfa",
   "metadata": {},
   "source": [
    "**Copiando um conjunto para outro**"
   ]
  },
  {
   "cell_type": "code",
   "execution_count": 33,
   "id": "b85d6c2a",
   "metadata": {},
   "outputs": [
    {
     "name": "stdout",
     "output_type": "stream",
     "text": [
      "{1, 2, 3}\n",
      "{1, 2, 3}\n",
      "{1, 2, 3}\n",
      "{1, 2, 3, 4}\n"
     ]
    }
   ],
   "source": [
    "# Exemplo: Deep Copy\n",
    "\n",
    "s = {1, 2, 3}\n",
    "print(s)\n",
    "\n",
    "novo = s.copy()\n",
    "print(novo)\n",
    "\n",
    "novo.add(4)\n",
    "print(s)\n",
    "print(novo)"
   ]
  },
  {
   "cell_type": "code",
   "execution_count": 34,
   "id": "09a45d94",
   "metadata": {},
   "outputs": [
    {
     "name": "stdout",
     "output_type": "stream",
     "text": [
      "{1, 2, 3, 4}\n",
      "{1, 2, 3, 4}\n"
     ]
    }
   ],
   "source": [
    "# Exemplo: Shallow Copy\n",
    "\n",
    "novo = s\n",
    "\n",
    "novo.add(4)\n",
    "\n",
    "print(novo)\n",
    "print(s)"
   ]
  },
  {
   "cell_type": "markdown",
   "id": "f5543510",
   "metadata": {},
   "source": [
    "As duas variáveis ocupam a mesma memória, com os mesmos valores"
   ]
  },
  {
   "cell_type": "markdown",
   "id": "39787cf7",
   "metadata": {},
   "source": [
    "**Remover todos os itens do conjunto**"
   ]
  },
  {
   "cell_type": "code",
   "execution_count": 36,
   "id": "0b2a1992",
   "metadata": {},
   "outputs": [
    {
     "name": "stdout",
     "output_type": "stream",
     "text": [
      "set()\n"
     ]
    }
   ],
   "source": [
    "s.clear()\n",
    "print(s)"
   ]
  },
  {
   "cell_type": "markdown",
   "id": "cef3ed7d",
   "metadata": {},
   "source": [
    "**Métodos matemáticos de Conjuntos**"
   ]
  },
  {
   "cell_type": "markdown",
   "id": "ac0f86c1",
   "metadata": {},
   "source": [
    "Vamos supor que em uma grade curricular universitária, temos os alunos matriculados em cada matéria"
   ]
  },
  {
   "cell_type": "code",
   "execution_count": 41,
   "id": "af2ff349",
   "metadata": {},
   "outputs": [
    {
     "name": "stdout",
     "output_type": "stream",
     "text": [
      "{'Maria', 'Ítalo', 'Augusto', 'Paula', 'Carla', 'Pedro', 'Ana', 'Carlos', 'Laís', 'João'}\n",
      "{'Maria', 'Ítalo', 'Augusto', 'Paula', 'Carla', 'Pedro', 'Ana', 'Carlos', 'Laís', 'João'}\n"
     ]
    }
   ],
   "source": [
    "calculo = {'Ítalo', 'Ana', 'João', 'Maria', 'Pedro', 'Carla'}\n",
    "geometria = {'Ana', 'João', 'Carlos', 'Laís', 'Augusto', 'Paula'}\n",
    "\n",
    "# Conjunto com o nome de estudantes unicos\n",
    "# Forma 1 - Union\n",
    "\n",
    "unicos1 = calculo.union(geometria)\n",
    "print(unicos1)\n",
    "\n",
    "# Forma 2 - Caractere pipe |\n",
    "unicos2 = calculo | geometria\n",
    "print(unicos2)"
   ]
  },
  {
   "cell_type": "markdown",
   "id": "8e24e482",
   "metadata": {},
   "source": [
    "Resultou em todos os valores unicos de ambas matérias"
   ]
  },
  {
   "cell_type": "code",
   "execution_count": 42,
   "id": "83393eaa",
   "metadata": {},
   "outputs": [
    {
     "name": "stdout",
     "output_type": "stream",
     "text": [
      "{'Ana', 'João'}\n",
      "{'Ana', 'João'}\n"
     ]
    }
   ],
   "source": [
    "# Conjunto de estudantes que estão em ambas matérias\n",
    "\n",
    "# Forma1: Intersection\n",
    "\n",
    "ambos1 = calculo.intersection(geometria)\n",
    "print(ambos1)\n",
    "\n",
    "# Forma2: Usando &\n",
    "\n",
    "ambos2 = calculo & geometria\n",
    "print(ambos2)"
   ]
  },
  {
   "cell_type": "code",
   "execution_count": 48,
   "id": "217faf12",
   "metadata": {},
   "outputs": [
    {
     "name": "stdout",
     "output_type": "stream",
     "text": [
      "Só estudam calculo: {'Maria', 'Carla', 'Ítalo', 'Pedro'}\n",
      "Só estudam geometria: {'Carlos', 'Augusto', 'Paula', 'Laís'}\n"
     ]
    }
   ],
   "source": [
    "# Gerar conjunto sem a intersecção, ou seja, que estão em apenas 1 curso\n",
    "\n",
    "só_calculo = calculo.difference(geometria)\n",
    "print(f'Só estudam calculo: {só_calculo}')\n",
    "\n",
    "só_geometria = geometria.difference(calculo)\n",
    "print(f'Só estudam geometria: {só_geometria}')"
   ]
  },
  {
   "cell_type": "markdown",
   "id": "57813f80",
   "metadata": {},
   "source": [
    "**Soma, maior valor, menor valor, tamanho**"
   ]
  },
  {
   "cell_type": "code",
   "execution_count": 50,
   "id": "b6eedb74",
   "metadata": {},
   "outputs": [
    {
     "name": "stdout",
     "output_type": "stream",
     "text": [
      "21\n",
      "6\n",
      "1\n",
      "6\n"
     ]
    }
   ],
   "source": [
    "s = {1 , 2, 3, 4, 5, 6}\n",
    "\n",
    "print(sum(s))\n",
    "print(max(s))\n",
    "print(min(s))\n",
    "print(len(s))"
   ]
  },
  {
   "cell_type": "markdown",
   "id": "1a0eda22",
   "metadata": {},
   "source": [
    "**Funções possíveis**"
   ]
  },
  {
   "cell_type": "code",
   "execution_count": 51,
   "id": "a113b87a",
   "metadata": {},
   "outputs": [
    {
     "data": {
      "text/plain": [
       "['__and__',\n",
       " '__class__',\n",
       " '__class_getitem__',\n",
       " '__contains__',\n",
       " '__delattr__',\n",
       " '__dir__',\n",
       " '__doc__',\n",
       " '__eq__',\n",
       " '__format__',\n",
       " '__ge__',\n",
       " '__getattribute__',\n",
       " '__gt__',\n",
       " '__hash__',\n",
       " '__iand__',\n",
       " '__init__',\n",
       " '__init_subclass__',\n",
       " '__ior__',\n",
       " '__isub__',\n",
       " '__iter__',\n",
       " '__ixor__',\n",
       " '__le__',\n",
       " '__len__',\n",
       " '__lt__',\n",
       " '__ne__',\n",
       " '__new__',\n",
       " '__or__',\n",
       " '__rand__',\n",
       " '__reduce__',\n",
       " '__reduce_ex__',\n",
       " '__repr__',\n",
       " '__ror__',\n",
       " '__rsub__',\n",
       " '__rxor__',\n",
       " '__setattr__',\n",
       " '__sizeof__',\n",
       " '__str__',\n",
       " '__sub__',\n",
       " '__subclasshook__',\n",
       " '__xor__',\n",
       " 'add',\n",
       " 'clear',\n",
       " 'copy',\n",
       " 'difference',\n",
       " 'difference_update',\n",
       " 'discard',\n",
       " 'intersection',\n",
       " 'intersection_update',\n",
       " 'isdisjoint',\n",
       " 'issubset',\n",
       " 'issuperset',\n",
       " 'pop',\n",
       " 'remove',\n",
       " 'symmetric_difference',\n",
       " 'symmetric_difference_update',\n",
       " 'union',\n",
       " 'update']"
      ]
     },
     "execution_count": 51,
     "metadata": {},
     "output_type": "execute_result"
    }
   ],
   "source": [
    "dir(s)"
   ]
  }
 ],
 "metadata": {
  "kernelspec": {
   "display_name": "Python 3 (ipykernel)",
   "language": "python",
   "name": "python3"
  },
  "language_info": {
   "codemirror_mode": {
    "name": "ipython",
    "version": 3
   },
   "file_extension": ".py",
   "mimetype": "text/x-python",
   "name": "python",
   "nbconvert_exporter": "python",
   "pygments_lexer": "ipython3",
   "version": "3.9.7"
  }
 },
 "nbformat": 4,
 "nbformat_minor": 5
}
