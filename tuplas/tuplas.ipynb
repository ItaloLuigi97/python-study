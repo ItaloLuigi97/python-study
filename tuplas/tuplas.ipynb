{
 "cells": [
  {
   "cell_type": "markdown",
   "id": "e2840b6c",
   "metadata": {},
   "source": [
    "# Estudo de TUPLAS"
   ]
  },
  {
   "cell_type": "markdown",
   "id": "4e502dce",
   "metadata": {},
   "source": [
    "Tuplas têm semelhanças com listas, exceto por: As tuplas são imutáveis, e sua representação é feita com parênteses '(  )' ."
   ]
  },
  {
   "cell_type": "code",
   "execution_count": 2,
   "id": "ac994607",
   "metadata": {},
   "outputs": [
    {
     "name": "stdout",
     "output_type": "stream",
     "text": [
      "<class 'tuple'>\n"
     ]
    }
   ],
   "source": [
    "# Exemplo de uma criação de TUPLA\n",
    "print (type(()))"
   ]
  },
  {
   "cell_type": "code",
   "execution_count": 12,
   "id": "27c125d6",
   "metadata": {},
   "outputs": [
    {
     "name": "stdout",
     "output_type": "stream",
     "text": [
      "[1, 3, 4, 6, 9]\n"
     ]
    }
   ],
   "source": [
    "# O que significa ser imutável?\n",
    "\n",
    "lista = [9, 4, 1, 6, 3]\n",
    "lista.sort()\n",
    "\n",
    "print(lista)"
   ]
  },
  {
   "cell_type": "markdown",
   "id": "9f184b35",
   "metadata": {},
   "source": [
    "A fim de exemplificar, perceba que foi criado uma lista onde mudamos a ordem por meio de um comando 'sort', e veja que a lista em si, mudou! Porque listas são **mutáveis**"
   ]
  },
  {
   "cell_type": "markdown",
   "id": "82c25ff2",
   "metadata": {},
   "source": [
    "**CRIAÇÕES DE TUPLAS**"
   ]
  },
  {
   "cell_type": "code",
   "execution_count": 8,
   "id": "92d3c2d6",
   "metadata": {},
   "outputs": [
    {
     "name": "stdout",
     "output_type": "stream",
     "text": [
      "(1, 2, 3, 4, 5)\n",
      "<class 'tuple'>\n",
      "(6, 7, 8, 9, 10)\n",
      "<class 'tuple'>\n"
     ]
    },
    {
     "data": {
      "text/plain": [
       "(None, None)"
      ]
     },
     "execution_count": 8,
     "metadata": {},
     "output_type": "execute_result"
    }
   ],
   "source": [
    "# Há dois métodos para as suas criações:\n",
    "\n",
    "tupla1 = (1, 2, 3, 4, 5)\n",
    "\n",
    "tupla2 = 6, 7, 8, 9, 10\n",
    "\n",
    "print(tupla1), print(type(tupla1))\n",
    "print(tupla2), print(type(tupla2))"
   ]
  },
  {
   "cell_type": "markdown",
   "id": "06b311b9",
   "metadata": {},
   "source": [
    "Perceba que mesmo sem colocar parênteses, a criação da tupla foi possível"
   ]
  },
  {
   "cell_type": "code",
   "execution_count": 11,
   "id": "10bf9bdf",
   "metadata": {},
   "outputs": [
    {
     "name": "stdout",
     "output_type": "stream",
     "text": [
      "<class 'int'>\n"
     ]
    }
   ],
   "source": [
    "# Porém, quando criamos uma tupla de valor unitário, o retorno é um int\n",
    "\n",
    "tupla3 = (345)\n",
    "\n",
    "print(type(tupla3))"
   ]
  },
  {
   "cell_type": "markdown",
   "id": "eb885f4a",
   "metadata": {},
   "source": [
    "Note que o Python entende como um valor inteiro, ou float caso seja o caso"
   ]
  },
  {
   "cell_type": "code",
   "execution_count": 13,
   "id": "064dcbee",
   "metadata": {},
   "outputs": [
    {
     "name": "stdout",
     "output_type": "stream",
     "text": [
      "(0, 1, 2, 3, 4, 5, 6, 7, 8, 9, 10)\n",
      "<class 'tuple'>\n"
     ]
    }
   ],
   "source": [
    "# Pode-se criar TUPLAS com ranges, semelhante a listas\n",
    "\n",
    "tupla4 = tuple(range(11))\n",
    "\n",
    "print(tupla4)\n",
    "\n",
    "print(type(tupla4))"
   ]
  },
  {
   "cell_type": "markdown",
   "id": "69319d33",
   "metadata": {},
   "source": [
    "**DESEMPACOTAMENTO DE TUPLA**"
   ]
  },
  {
   "cell_type": "markdown",
   "id": "c9657628",
   "metadata": {},
   "source": [
    "# Criando uma TUPLA com Strings, semelhante a listas\n",
    "tupla = ('Ítalo', 'Ana', 'João', 'Maria')\n",
    "\n",
    "aluno1, aluno2, aluno3, aluno4 = tupla\n",
    "\n",
    "print(aluno1)\n",
    "print(aluno2)\n",
    "print(aluno3)\n",
    "print(aluno4)"
   ]
  },
  {
   "cell_type": "markdown",
   "id": "3bafb62a",
   "metadata": {},
   "source": [
    "Para esta operação dar certo, será necessário ter a mesma quantidade de pacotes desejados e o tamanho da tupla"
   ]
  },
  {
   "cell_type": "markdown",
   "id": "8a826edf",
   "metadata": {},
   "source": [
    "**ADIÇÃO e REMOÇÃO** "
   ]
  },
  {
   "cell_type": "markdown",
   "id": "072a3fac",
   "metadata": {},
   "source": [
    "Em TUPLAS isso não é possível, dado que são **imutáveis**."
   ]
  },
  {
   "cell_type": "markdown",
   "id": "7ec3d57b",
   "metadata": {},
   "source": [
    "**SOMA, MULTIPLICAÇÃO, VALORES MÁXIMOS E MÍNIMOS**"
   ]
  },
  {
   "cell_type": "code",
   "execution_count": 17,
   "id": "4914b983",
   "metadata": {},
   "outputs": [
    {
     "name": "stdout",
     "output_type": "stream",
     "text": [
      "22.5\n",
      "6\n",
      "1\n",
      "6\n"
     ]
    }
   ],
   "source": [
    "tupla = (1, 2.1, 3, 4.7, 5.7, 6)\n",
    "\n",
    "print(sum(tupla))\n",
    "print(max(tupla))\n",
    "print(min(tupla))\n",
    "print(len(tupla))"
   ]
  },
  {
   "cell_type": "code",
   "execution_count": 19,
   "id": "3c7333fc",
   "metadata": {},
   "outputs": [
    {
     "name": "stdout",
     "output_type": "stream",
     "text": [
      "4\n"
     ]
    }
   ],
   "source": [
    "# Porém só é possível quando se tem valores INTEIROS  e REAIS\n",
    "tupla = (1.2, 2, 6.3, 'a')\n",
    "\n",
    "print(len(tupla))"
   ]
  },
  {
   "cell_type": "markdown",
   "id": "d138ae07",
   "metadata": {},
   "source": [
    "Quando tem-se strings, só é possível calcular o tamanho da tupla"
   ]
  },
  {
   "cell_type": "markdown",
   "id": "08e0cca8",
   "metadata": {},
   "source": [
    "**CONCATENAÇÃO DE TUPLAS**"
   ]
  },
  {
   "cell_type": "code",
   "execution_count": 23,
   "id": "4452271d",
   "metadata": {},
   "outputs": [
    {
     "name": "stdout",
     "output_type": "stream",
     "text": [
      "(1, 2, 3)\n",
      "(4, 5, 6)\n",
      "(1, 2, 3, 4, 5, 6)\n",
      "(1, 2, 3)\n",
      "(4, 5, 6)\n"
     ]
    }
   ],
   "source": [
    "tupla1 = (1, 2, 3)\n",
    "print(tupla1)\n",
    "\n",
    "tupla2 = (4, 5, 6)\n",
    "print(tupla2)\n",
    "\n",
    "print(tupla1 + tupla2)\n",
    "\n",
    "print(tupla1)\n",
    "print(tupla2)"
   ]
  },
  {
   "cell_type": "markdown",
   "id": "7b0d6c8c",
   "metadata": {},
   "source": [
    "Note que foi feito a soma, mas as tuplas continuam sendo imutáveis"
   ]
  },
  {
   "cell_type": "code",
   "execution_count": 25,
   "id": "f0eaab13",
   "metadata": {},
   "outputs": [
    {
     "name": "stdout",
     "output_type": "stream",
     "text": [
      "(1, 2, 3, 4, 5, 6)\n"
     ]
    }
   ],
   "source": [
    "# Para se 'mutar' uma tupla, podemos fazer:\n",
    "\n",
    "tupla = tupla1 + tupla2\n",
    "print(tupla)\n",
    "\n"
   ]
  },
  {
   "cell_type": "code",
   "execution_count": 26,
   "id": "c2d83c0a",
   "metadata": {},
   "outputs": [
    {
     "name": "stdout",
     "output_type": "stream",
     "text": [
      "(1, 2, 3, 4, 5, 6)\n"
     ]
    }
   ],
   "source": [
    "# Também podemos sobrescrever os seus valores:\n",
    "\n",
    "tupla1 = (1, 2, 3)\n",
    "\n",
    "tupla2 = (4, 5, 6)\n",
    "\n",
    "tupla1 = tupla1 + tupla2\n",
    "\n",
    "print(tupla1)"
   ]
  },
  {
   "cell_type": "markdown",
   "id": "f10679cf",
   "metadata": {},
   "source": [
    "Veja que tupla 1 foi subscrita em uma nova tupla1"
   ]
  },
  {
   "cell_type": "markdown",
   "id": "73acbf87",
   "metadata": {},
   "source": [
    "**CHECAR SE ELEMENTOS ESTÃO CONTIDOS**"
   ]
  },
  {
   "cell_type": "code",
   "execution_count": 27,
   "id": "6368ea6c",
   "metadata": {},
   "outputs": [
    {
     "name": "stdout",
     "output_type": "stream",
     "text": [
      "True\n"
     ]
    }
   ],
   "source": [
    "# Checar se um valor x está contido na TUPLA\n",
    "\n",
    "tupla = (1, 2, 3)\n",
    "print(2 in tupla)"
   ]
  },
  {
   "cell_type": "markdown",
   "id": "665388a4",
   "metadata": {},
   "source": [
    "Retornou um booleano"
   ]
  },
  {
   "cell_type": "markdown",
   "id": "0ad6e670",
   "metadata": {},
   "source": [
    "**ITERAÇÕES EM TUPLAS**"
   ]
  },
  {
   "cell_type": "code",
   "execution_count": 28,
   "id": "cfb592eb",
   "metadata": {},
   "outputs": [
    {
     "name": "stdout",
     "output_type": "stream",
     "text": [
      "1\n",
      "2\n",
      "3\n"
     ]
    }
   ],
   "source": [
    "tupla = (1, 2, 3)\n",
    "\n",
    "for n in tupla:\n",
    "    print(n)"
   ]
  },
  {
   "cell_type": "code",
   "execution_count": 29,
   "id": "08776c47",
   "metadata": {},
   "outputs": [
    {
     "name": "stdout",
     "output_type": "stream",
     "text": [
      "0 1\n",
      "1 2\n",
      "2 3\n"
     ]
    }
   ],
   "source": [
    "for indice, valor in enumerate(tupla):\n",
    "    print(indice, valor)"
   ]
  },
  {
   "cell_type": "markdown",
   "id": "930d0a1d",
   "metadata": {},
   "source": [
    "O comando acima passa um indice para os valores"
   ]
  },
  {
   "cell_type": "markdown",
   "id": "a51b5030",
   "metadata": {},
   "source": [
    "**CONTANDO ELEMENTOS DE UMA TUPLA**"
   ]
  },
  {
   "cell_type": "code",
   "execution_count": 30,
   "id": "ed5ae705",
   "metadata": {},
   "outputs": [
    {
     "name": "stdout",
     "output_type": "stream",
     "text": [
      "2\n"
     ]
    }
   ],
   "source": [
    "tupla = ('ítalo', 'ana', 'joão', 'ana', 'maria', 'ítalo')\n",
    "\n",
    "print(tupla.count('ítalo'))"
   ]
  },
  {
   "cell_type": "markdown",
   "id": "b1ee596a",
   "metadata": {},
   "source": [
    "# QUANDO UTILIZAR TUPLAS?"
   ]
  },
  {
   "cell_type": "markdown",
   "id": "4344662c",
   "metadata": {},
   "source": [
    "Devemos utilizar tuplas sempre que não precisarmos modifiar os dados contidos em uma coleção."
   ]
  },
  {
   "cell_type": "code",
   "execution_count": 42,
   "id": "f5c4e901",
   "metadata": {},
   "outputs": [
    {
     "name": "stdout",
     "output_type": "stream",
     "text": [
      "['jan', 'fev', 'mar', 'abri', 'mai', 'jun', 'jul', 'ago', 'set', 'out', 'nov', 'dez', 'mês-qualquer']\n"
     ]
    }
   ],
   "source": [
    "# Exemplo: \n",
    "\n",
    "meses = ('jan', 'fev', 'mar', 'abri', 'mai', 'jun', 'jul', 'ago',\n",
    "         'set', 'out', 'nov', 'dez')\n",
    "\n",
    "meses_lista = ['jan', 'fev', 'mar', 'abri', 'mai', 'jun', 'jul', 'ago',\n",
    "         'set', 'out', 'nov', 'dez']\n",
    "\n",
    "meses_lista.append('mês-qualquer')\n",
    "print(meses_lista)"
   ]
  },
  {
   "cell_type": "markdown",
   "id": "6c06156e",
   "metadata": {},
   "source": [
    "Foi adicionado mais um mês. Mas perceba que não faz sentido adicionar este mês a mais"
   ]
  },
  {
   "cell_type": "markdown",
   "id": "38f12102",
   "metadata": {},
   "source": [
    "**ACESSANDO ELEMENTOS**"
   ]
  },
  {
   "cell_type": "code",
   "execution_count": 43,
   "id": "eebcb82b",
   "metadata": {},
   "outputs": [
    {
     "name": "stdout",
     "output_type": "stream",
     "text": [
      "set\n"
     ]
    }
   ],
   "source": [
    "print(meses[8])"
   ]
  },
  {
   "cell_type": "code",
   "execution_count": 47,
   "id": "baf784b2",
   "metadata": {},
   "outputs": [
    {
     "name": "stdout",
     "output_type": "stream",
     "text": [
      "8\n"
     ]
    }
   ],
   "source": [
    "print(meses.index('set'))"
   ]
  },
  {
   "cell_type": "markdown",
   "id": "14e790a7",
   "metadata": {},
   "source": [
    "Se o elemento não existir, será gerado um 'erro'."
   ]
  },
  {
   "cell_type": "code",
   "execution_count": 48,
   "id": "d11074c7",
   "metadata": {},
   "outputs": [
    {
     "name": "stdout",
     "output_type": "stream",
     "text": [
      "1\n"
     ]
    }
   ],
   "source": [
    "# Vamos supor agora que há uma duplicidade em nossa tupla:\n",
    "\n",
    "tupla = (1, 2, 3, 2, 1)\n",
    "\n",
    "print(tupla.index(2))"
   ]
  },
  {
   "cell_type": "markdown",
   "id": "525954d7",
   "metadata": {},
   "source": [
    "Note que ele retorna o indice do primeiro elemento encontrado"
   ]
  },
  {
   "cell_type": "markdown",
   "id": "7a8a3aba",
   "metadata": {},
   "source": [
    "**ITERAÇÃO COM WHILE**"
   ]
  },
  {
   "cell_type": "code",
   "execution_count": 44,
   "id": "908c5a32",
   "metadata": {},
   "outputs": [
    {
     "name": "stdout",
     "output_type": "stream",
     "text": [
      "jan\n",
      "fev\n",
      "mar\n",
      "abri\n",
      "mai\n",
      "jun\n",
      "jul\n",
      "ago\n",
      "set\n",
      "out\n",
      "nov\n",
      "dez\n"
     ]
    }
   ],
   "source": [
    "i = 0\n",
    "\n",
    "while i < len(meses):\n",
    "    print(meses[i])\n",
    "    i = i + 1"
   ]
  },
  {
   "cell_type": "markdown",
   "id": "12492177",
   "metadata": {},
   "source": [
    "**SLICE DE TUPLAS**"
   ]
  },
  {
   "cell_type": "code",
   "execution_count": 53,
   "id": "4b8cb218",
   "metadata": {},
   "outputs": [
    {
     "name": "stdout",
     "output_type": "stream",
     "text": [
      "('jan', 'fev', 'mar', 'abri', 'mai', 'jun', 'jul', 'ago', 'set', 'out', 'nov', 'dez')\n",
      "('jun', 'jul', 'ago', 'set', 'out', 'nov', 'dez')\n",
      "('jun', 'jul', 'ago', 'set')\n"
     ]
    }
   ],
   "source": [
    "# tupla [inicio, fim, passo]\n",
    "\n",
    "print(meses[0:])\n",
    "\n",
    "print(meses[5:])\n",
    "\n",
    "print(meses[5:9])"
   ]
  },
  {
   "cell_type": "markdown",
   "id": "f26c46d6",
   "metadata": {},
   "source": [
    "# PORQUE UTILIZAR TUPLAS?"
   ]
  },
  {
   "cell_type": "markdown",
   "id": "6521450c",
   "metadata": {},
   "source": [
    "- Tuplas são mais rápidas que listas, para fazer operações\n",
    "- Tuplas deixam seu código mais seguro, por conta de imutáveis"
   ]
  },
  {
   "cell_type": "markdown",
   "id": "5cf791d2",
   "metadata": {},
   "source": [
    "**COPIANDO TUPLA**"
   ]
  },
  {
   "cell_type": "code",
   "execution_count": 59,
   "id": "6b354de5",
   "metadata": {},
   "outputs": [
    {
     "name": "stdout",
     "output_type": "stream",
     "text": [
      "(1, 2, 3)\n",
      "(1, 2, 3)\n",
      "(1, 2, 3)\n",
      "(1, 2, 3, 4, 5, 6)\n",
      "(1, 2, 3)\n"
     ]
    }
   ],
   "source": [
    "tupla = (1, 2, 3)\n",
    "print(tupla)\n",
    "\n",
    "nova = tupla # Sem Shallow Copy\n",
    "\n",
    "print(tupla)\n",
    "print(nova)\n",
    "\n",
    "outra = (4, 5, 6)\n",
    "\n",
    "nova = nova + outra\n",
    "\n",
    "print(nova)\n",
    "print(tupla)"
   ]
  },
  {
   "cell_type": "markdown",
   "id": "6626e906",
   "metadata": {},
   "source": [
    "Shallow Copy é porque quando se copia uma lista desse jeito 'objeto = outro', significa que os dois correspondem pelo mesmo, mas em tuplas não, isso já basta como uma cópia"
   ]
  },
  {
   "cell_type": "markdown",
   "id": "52aaab5c",
   "metadata": {},
   "source": [
    "# Operações possíveis em TUPLAS"
   ]
  },
  {
   "cell_type": "code",
   "execution_count": 60,
   "id": "493c1d49",
   "metadata": {},
   "outputs": [
    {
     "data": {
      "text/plain": [
       "['__add__',\n",
       " '__class__',\n",
       " '__class_getitem__',\n",
       " '__contains__',\n",
       " '__delattr__',\n",
       " '__dir__',\n",
       " '__doc__',\n",
       " '__eq__',\n",
       " '__format__',\n",
       " '__ge__',\n",
       " '__getattribute__',\n",
       " '__getitem__',\n",
       " '__getnewargs__',\n",
       " '__gt__',\n",
       " '__hash__',\n",
       " '__init__',\n",
       " '__init_subclass__',\n",
       " '__iter__',\n",
       " '__le__',\n",
       " '__len__',\n",
       " '__lt__',\n",
       " '__mul__',\n",
       " '__ne__',\n",
       " '__new__',\n",
       " '__reduce__',\n",
       " '__reduce_ex__',\n",
       " '__repr__',\n",
       " '__rmul__',\n",
       " '__setattr__',\n",
       " '__sizeof__',\n",
       " '__str__',\n",
       " '__subclasshook__',\n",
       " 'count',\n",
       " 'index']"
      ]
     },
     "execution_count": 60,
     "metadata": {},
     "output_type": "execute_result"
    }
   ],
   "source": [
    "dir(tupla)"
   ]
  }
 ],
 "metadata": {
  "kernelspec": {
   "display_name": "Python 3 (ipykernel)",
   "language": "python",
   "name": "python3"
  },
  "language_info": {
   "codemirror_mode": {
    "name": "ipython",
    "version": 3
   },
   "file_extension": ".py",
   "mimetype": "text/x-python",
   "name": "python",
   "nbconvert_exporter": "python",
   "pygments_lexer": "ipython3",
   "version": "3.9.7"
  }
 },
 "nbformat": 4,
 "nbformat_minor": 5
}
